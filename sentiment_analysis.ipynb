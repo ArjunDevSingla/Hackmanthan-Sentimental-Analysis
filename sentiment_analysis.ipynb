{
  "cells": [
    {
      "cell_type": "markdown",
      "metadata": {
        "id": "Smfmj9U-rSli"
      },
      "source": [
        "# Twitter Sentiment Analysis"
      ]
    },
    {
      "cell_type": "code",
      "execution_count": null,
      "metadata": {
        "colab": {
          "base_uri": "https://localhost:8080/",
          "height": 762
        },
        "id": "kyVtri8BrSll",
        "outputId": "868eacba-e3f3-4cd7-d4aa-499e120590ab"
      },
      "outputs": [
        {
          "output_type": "stream",
          "name": "stdout",
          "text": [
            "Looking in indexes: https://pypi.org/simple, https://us-python.pkg.dev/colab-wheels/public/simple/\n",
            "Requirement already satisfied: gensim in /usr/local/lib/python3.7/dist-packages (3.6.0)\n",
            "Collecting gensim\n",
            "  Downloading gensim-4.2.0-cp37-cp37m-manylinux_2_12_x86_64.manylinux2010_x86_64.whl (24.1 MB)\n",
            "\u001b[K     |████████████████████████████████| 24.1 MB 1.8 MB/s \n",
            "\u001b[?25hRequirement already satisfied: smart-open>=1.8.1 in /usr/local/lib/python3.7/dist-packages (from gensim) (5.2.1)\n",
            "Requirement already satisfied: scipy>=0.18.1 in /usr/local/lib/python3.7/dist-packages (from gensim) (1.4.1)\n",
            "Requirement already satisfied: numpy>=1.17.0 in /usr/local/lib/python3.7/dist-packages (from gensim) (1.21.6)\n",
            "Installing collected packages: gensim\n",
            "  Attempting uninstall: gensim\n",
            "    Found existing installation: gensim 3.6.0\n",
            "    Uninstalling gensim-3.6.0:\n",
            "      Successfully uninstalled gensim-3.6.0\n",
            "Successfully installed gensim-4.2.0\n"
          ]
        },
        {
          "output_type": "display_data",
          "data": {
            "application/vnd.colab-display-data+json": {
              "pip_warning": {
                "packages": [
                  "gensim"
                ]
              }
            }
          },
          "metadata": {}
        },
        {
          "output_type": "stream",
          "name": "stdout",
          "text": [
            "Looking in indexes: https://pypi.org/simple, https://us-python.pkg.dev/colab-wheels/public/simple/\n",
            "Requirement already satisfied: keras in /usr/local/lib/python3.7/dist-packages (2.8.0)\n",
            "Collecting keras\n",
            "  Downloading keras-2.9.0-py2.py3-none-any.whl (1.6 MB)\n",
            "\u001b[K     |████████████████████████████████| 1.6 MB 8.3 MB/s \n",
            "\u001b[?25hInstalling collected packages: keras\n",
            "  Attempting uninstall: keras\n",
            "    Found existing installation: keras 2.8.0\n",
            "    Uninstalling keras-2.8.0:\n",
            "      Successfully uninstalled keras-2.8.0\n",
            "\u001b[31mERROR: pip's dependency resolver does not currently take into account all the packages that are installed. This behaviour is the source of the following dependency conflicts.\n",
            "tensorflow 2.8.2+zzzcolab20220527125636 requires keras<2.9,>=2.8.0rc0, but you have keras 2.9.0 which is incompatible.\u001b[0m\n",
            "Successfully installed keras-2.9.0\n"
          ]
        },
        {
          "output_type": "display_data",
          "data": {
            "application/vnd.colab-display-data+json": {
              "pip_warning": {
                "packages": [
                  "keras"
                ]
              }
            }
          },
          "metadata": {}
        },
        {
          "output_type": "stream",
          "name": "stdout",
          "text": [
            "Looking in indexes: https://pypi.org/simple, https://us-python.pkg.dev/colab-wheels/public/simple/\n",
            "Requirement already satisfied: pandas in /usr/local/lib/python3.7/dist-packages (1.3.5)\n",
            "Requirement already satisfied: python-dateutil>=2.7.3 in /usr/local/lib/python3.7/dist-packages (from pandas) (2.8.2)\n",
            "Requirement already satisfied: numpy>=1.17.3 in /usr/local/lib/python3.7/dist-packages (from pandas) (1.21.6)\n",
            "Requirement already satisfied: pytz>=2017.3 in /usr/local/lib/python3.7/dist-packages (from pandas) (2022.1)\n",
            "Requirement already satisfied: six>=1.5 in /usr/local/lib/python3.7/dist-packages (from python-dateutil>=2.7.3->pandas) (1.15.0)\n"
          ]
        }
      ],
      "source": [
        "!pip install gensim --upgrade\n",
        "!pip install keras --upgrade\n",
        "!pip install pandas --upgrade"
      ]
    },
    {
      "cell_type": "code",
      "execution_count": null,
      "metadata": {
        "colab": {
          "base_uri": "https://localhost:8080/",
          "height": 1000
        },
        "id": "bPF8XHBZuXnj",
        "outputId": "a19a2e82-082b-448a-9be8-808b2d2f058f"
      },
      "outputs": [
        {
          "output_type": "stream",
          "name": "stdout",
          "text": [
            "Looking in indexes: https://pypi.org/simple, https://us-python.pkg.dev/colab-wheels/public/simple/\n",
            "Requirement already satisfied: tensorflow in /usr/local/lib/python3.7/dist-packages (2.8.2+zzzcolab20220527125636)\n",
            "Requirement already satisfied: flatbuffers>=1.12 in /usr/local/lib/python3.7/dist-packages (from tensorflow) (2.0)\n",
            "Requirement already satisfied: opt-einsum>=2.3.2 in /usr/local/lib/python3.7/dist-packages (from tensorflow) (3.3.0)\n",
            "Requirement already satisfied: astunparse>=1.6.0 in /usr/local/lib/python3.7/dist-packages (from tensorflow) (1.6.3)\n",
            "Requirement already satisfied: google-pasta>=0.1.1 in /usr/local/lib/python3.7/dist-packages (from tensorflow) (0.2.0)\n",
            "Requirement already satisfied: h5py>=2.9.0 in /usr/local/lib/python3.7/dist-packages (from tensorflow) (3.1.0)\n",
            "Requirement already satisfied: libclang>=9.0.1 in /usr/local/lib/python3.7/dist-packages (from tensorflow) (14.0.1)\n",
            "Requirement already satisfied: typing-extensions>=3.6.6 in /usr/local/lib/python3.7/dist-packages (from tensorflow) (4.1.1)\n",
            "Collecting keras<2.9,>=2.8.0rc0\n",
            "  Downloading keras-2.8.0-py2.py3-none-any.whl (1.4 MB)\n",
            "\u001b[K     |████████████████████████████████| 1.4 MB 8.5 MB/s \n",
            "\u001b[?25hRequirement already satisfied: wrapt>=1.11.0 in /usr/local/lib/python3.7/dist-packages (from tensorflow) (1.14.1)\n",
            "Requirement already satisfied: six>=1.12.0 in /usr/local/lib/python3.7/dist-packages (from tensorflow) (1.15.0)\n",
            "Requirement already satisfied: setuptools in /usr/local/lib/python3.7/dist-packages (from tensorflow) (57.4.0)\n",
            "Requirement already satisfied: absl-py>=0.4.0 in /usr/local/lib/python3.7/dist-packages (from tensorflow) (1.1.0)\n",
            "Requirement already satisfied: numpy>=1.20 in /usr/local/lib/python3.7/dist-packages (from tensorflow) (1.21.6)\n",
            "Requirement already satisfied: grpcio<2.0,>=1.24.3 in /usr/local/lib/python3.7/dist-packages (from tensorflow) (1.46.3)\n",
            "Requirement already satisfied: gast>=0.2.1 in /usr/local/lib/python3.7/dist-packages (from tensorflow) (0.5.3)\n",
            "Requirement already satisfied: tensorflow-io-gcs-filesystem>=0.23.1 in /usr/local/lib/python3.7/dist-packages (from tensorflow) (0.26.0)\n",
            "Requirement already satisfied: protobuf<3.20,>=3.9.2 in /usr/local/lib/python3.7/dist-packages (from tensorflow) (3.17.3)\n",
            "Requirement already satisfied: tensorboard<2.9,>=2.8 in /usr/local/lib/python3.7/dist-packages (from tensorflow) (2.8.0)\n",
            "Requirement already satisfied: termcolor>=1.1.0 in /usr/local/lib/python3.7/dist-packages (from tensorflow) (1.1.0)\n",
            "Requirement already satisfied: keras-preprocessing>=1.1.1 in /usr/local/lib/python3.7/dist-packages (from tensorflow) (1.1.2)\n",
            "Requirement already satisfied: tensorflow-estimator<2.9,>=2.8 in /usr/local/lib/python3.7/dist-packages (from tensorflow) (2.8.0)\n",
            "Requirement already satisfied: wheel<1.0,>=0.23.0 in /usr/local/lib/python3.7/dist-packages (from astunparse>=1.6.0->tensorflow) (0.37.1)\n",
            "Requirement already satisfied: cached-property in /usr/local/lib/python3.7/dist-packages (from h5py>=2.9.0->tensorflow) (1.5.2)\n",
            "Requirement already satisfied: google-auth-oauthlib<0.5,>=0.4.1 in /usr/local/lib/python3.7/dist-packages (from tensorboard<2.9,>=2.8->tensorflow) (0.4.6)\n",
            "Requirement already satisfied: tensorboard-plugin-wit>=1.6.0 in /usr/local/lib/python3.7/dist-packages (from tensorboard<2.9,>=2.8->tensorflow) (1.8.1)\n",
            "Requirement already satisfied: google-auth<3,>=1.6.3 in /usr/local/lib/python3.7/dist-packages (from tensorboard<2.9,>=2.8->tensorflow) (1.35.0)\n",
            "Requirement already satisfied: requests<3,>=2.21.0 in /usr/local/lib/python3.7/dist-packages (from tensorboard<2.9,>=2.8->tensorflow) (2.23.0)\n",
            "Requirement already satisfied: tensorboard-data-server<0.7.0,>=0.6.0 in /usr/local/lib/python3.7/dist-packages (from tensorboard<2.9,>=2.8->tensorflow) (0.6.1)\n",
            "Requirement already satisfied: werkzeug>=0.11.15 in /usr/local/lib/python3.7/dist-packages (from tensorboard<2.9,>=2.8->tensorflow) (1.0.1)\n",
            "Requirement already satisfied: markdown>=2.6.8 in /usr/local/lib/python3.7/dist-packages (from tensorboard<2.9,>=2.8->tensorflow) (3.3.7)\n",
            "Requirement already satisfied: cachetools<5.0,>=2.0.0 in /usr/local/lib/python3.7/dist-packages (from google-auth<3,>=1.6.3->tensorboard<2.9,>=2.8->tensorflow) (4.2.4)\n",
            "Requirement already satisfied: pyasn1-modules>=0.2.1 in /usr/local/lib/python3.7/dist-packages (from google-auth<3,>=1.6.3->tensorboard<2.9,>=2.8->tensorflow) (0.2.8)\n",
            "Requirement already satisfied: rsa<5,>=3.1.4 in /usr/local/lib/python3.7/dist-packages (from google-auth<3,>=1.6.3->tensorboard<2.9,>=2.8->tensorflow) (4.8)\n",
            "Requirement already satisfied: requests-oauthlib>=0.7.0 in /usr/local/lib/python3.7/dist-packages (from google-auth-oauthlib<0.5,>=0.4.1->tensorboard<2.9,>=2.8->tensorflow) (1.3.1)\n",
            "Requirement already satisfied: importlib-metadata>=4.4 in /usr/local/lib/python3.7/dist-packages (from markdown>=2.6.8->tensorboard<2.9,>=2.8->tensorflow) (4.11.4)\n",
            "Requirement already satisfied: zipp>=0.5 in /usr/local/lib/python3.7/dist-packages (from importlib-metadata>=4.4->markdown>=2.6.8->tensorboard<2.9,>=2.8->tensorflow) (3.8.0)\n",
            "Requirement already satisfied: pyasn1<0.5.0,>=0.4.6 in /usr/local/lib/python3.7/dist-packages (from pyasn1-modules>=0.2.1->google-auth<3,>=1.6.3->tensorboard<2.9,>=2.8->tensorflow) (0.4.8)\n",
            "Requirement already satisfied: certifi>=2017.4.17 in /usr/local/lib/python3.7/dist-packages (from requests<3,>=2.21.0->tensorboard<2.9,>=2.8->tensorflow) (2022.6.15)\n",
            "Requirement already satisfied: chardet<4,>=3.0.2 in /usr/local/lib/python3.7/dist-packages (from requests<3,>=2.21.0->tensorboard<2.9,>=2.8->tensorflow) (3.0.4)\n",
            "Requirement already satisfied: idna<3,>=2.5 in /usr/local/lib/python3.7/dist-packages (from requests<3,>=2.21.0->tensorboard<2.9,>=2.8->tensorflow) (2.10)\n",
            "Requirement already satisfied: urllib3!=1.25.0,!=1.25.1,<1.26,>=1.21.1 in /usr/local/lib/python3.7/dist-packages (from requests<3,>=2.21.0->tensorboard<2.9,>=2.8->tensorflow) (1.24.3)\n",
            "Requirement already satisfied: oauthlib>=3.0.0 in /usr/local/lib/python3.7/dist-packages (from requests-oauthlib>=0.7.0->google-auth-oauthlib<0.5,>=0.4.1->tensorboard<2.9,>=2.8->tensorflow) (3.2.0)\n",
            "Installing collected packages: keras\n",
            "  Attempting uninstall: keras\n",
            "    Found existing installation: keras 2.9.0\n",
            "    Uninstalling keras-2.9.0:\n",
            "      Successfully uninstalled keras-2.9.0\n",
            "Successfully installed keras-2.8.0\n"
          ]
        },
        {
          "output_type": "display_data",
          "data": {
            "application/vnd.colab-display-data+json": {
              "pip_warning": {
                "packages": [
                  "keras"
                ]
              }
            }
          },
          "metadata": {}
        }
      ],
      "source": [
        "!pip install tensorflow"
      ]
    },
    {
      "cell_type": "code",
      "execution_count": null,
      "metadata": {
        "id": "rxQp51VorSln"
      },
      "outputs": [],
      "source": [
        "# DataFrame\n",
        "import pandas as pd\n",
        "\n",
        "# Matplot\n",
        "import matplotlib.pyplot as plt\n",
        "%matplotlib inline\n",
        "\n",
        "# Scikit-learn\n",
        "from sklearn.model_selection import train_test_split\n",
        "from sklearn.preprocessing import LabelEncoder\n",
        "from sklearn.metrics import confusion_matrix, classification_report, accuracy_score\n",
        "from sklearn.manifold import TSNE\n",
        "from sklearn.feature_extraction.text import TfidfVectorizer\n",
        "\n",
        "# Keras\n",
        "from keras.preprocessing.text import Tokenizer\n",
        "from keras.preprocessing.sequence import pad_sequences\n",
        "from keras.models import Sequential\n",
        "from keras.layers import Activation, Dense, Dropout, Embedding, Flatten, Conv1D, MaxPooling1D, LSTM\n",
        "from keras import utils\n",
        "from keras.callbacks import ReduceLROnPlateau, EarlyStopping\n",
        "\n",
        "# nltk\n",
        "import nltk\n",
        "from nltk.corpus import stopwords\n",
        "from  nltk.stem import SnowballStemmer\n",
        "\n",
        "# Word2vec\n",
        "import gensim\n",
        "\n",
        "# Utility\n",
        "import re\n",
        "import numpy as np\n",
        "import os\n",
        "from collections import Counter\n",
        "import logging\n",
        "import time\n",
        "import pickle\n",
        "import itertools\n",
        "\n",
        "# Set log\n",
        "logging.basicConfig(format='%(asctime)s : %(levelname)s : %(message)s', level=logging.INFO)"
      ]
    },
    {
      "cell_type": "code",
      "execution_count": null,
      "metadata": {
        "colab": {
          "base_uri": "https://localhost:8080/"
        },
        "id": "2lai3aoSrSlo",
        "outputId": "158933f5-fd94-4752-c19d-5611a479a4c1"
      },
      "outputs": [
        {
          "output_type": "stream",
          "name": "stderr",
          "text": [
            "[nltk_data] Downloading package stopwords to /root/nltk_data...\n",
            "[nltk_data]   Unzipping corpora/stopwords.zip.\n"
          ]
        },
        {
          "output_type": "execute_result",
          "data": {
            "text/plain": [
              "True"
            ]
          },
          "metadata": {},
          "execution_count": 5
        }
      ],
      "source": [
        "nltk.download('stopwords')"
      ]
    },
    {
      "cell_type": "markdown",
      "metadata": {
        "id": "AswRosDurSlp"
      },
      "source": [
        "### Settings"
      ]
    },
    {
      "cell_type": "code",
      "execution_count": null,
      "metadata": {
        "id": "sbmQFdlnrSlp"
      },
      "outputs": [],
      "source": [
        "# DATASET\n",
        "DATASET_COLUMNS = [\"target\", \"ids\", \"date\", \"flag\", \"user\", \"text\"]\n",
        "DATASET_ENCODING = \"ISO-8859-1\"\n",
        "TRAIN_SIZE = 0.8\n",
        "\n",
        "# TEXT CLENAING\n",
        "TEXT_CLEANING_RE = \"@\\S+|https?:\\S+|http?:\\S|[^A-Za-z0-9]+\"\n",
        "\n",
        "# WORD2VEC \n",
        "W2V_SIZE = 300\n",
        "W2V_WINDOW = 7\n",
        "W2V_EPOCH = 32\n",
        "W2V_MIN_COUNT = 10\n",
        "\n",
        "# KERAS\n",
        "SEQUENCE_LENGTH = 300\n",
        "EPOCHS = 3\n",
        "BATCH_SIZE = 1024\n",
        "\n",
        "# SENTIMENT\n",
        "POSITIVE = \"POSITIVE\"\n",
        "NEGATIVE = \"NEGATIVE\"\n",
        "NEUTRAL = \"NEUTRAL\"\n",
        "SENTIMENT_THRESHOLDS = (0.4, 0.7)\n",
        "\n",
        "# EXPORT\n",
        "KERAS_MODEL = \"model.h5\"\n",
        "WORD2VEC_MODEL = \"model.w2v\"\n",
        "TOKENIZER_MODEL = \"tokenizer.pkl\"\n",
        "ENCODER_MODEL = \"encoder.pkl\""
      ]
    },
    {
      "cell_type": "markdown",
      "metadata": {
        "id": "JlJbw7tWrSlq"
      },
      "source": [
        "### Read Dataset"
      ]
    },
    {
      "cell_type": "markdown",
      "metadata": {
        "id": "ScTVyzQ0rSlr"
      },
      "source": [
        "### Dataset details\n",
        "* **target**: the polarity of the tweet (0 = negative, 2 = neutral, 4 = positive)\n",
        "* **ids**: The id of the tweet ( 2087)\n",
        "* **date**: the date of the tweet (Sat May 16 23:58:44 UTC 2009)\n",
        "* **flag**: The query (lyx). If there is no query, then this value is NO_QUERY.\n",
        "* **user**: the user that tweeted (robotickilldozr)\n",
        "* **text**: the text of the tweet (Lyx is cool)"
      ]
    },
    {
      "cell_type": "code",
      "execution_count": null,
      "metadata": {
        "id": "lks8rdt_rSlr"
      },
      "outputs": [],
      "source": [
        "df = pd.read_csv(\"/content/drive/MyDrive/training.1600000.processed.noemoticon.csv\", encoding='latin-1')"
      ]
    },
    {
      "cell_type": "code",
      "execution_count": null,
      "metadata": {
        "colab": {
          "base_uri": "https://localhost:8080/"
        },
        "id": "_MamNPbWugs0",
        "outputId": "bdd576e0-0acb-4535-a872-5c02ffa477e7"
      },
      "outputs": [
        {
          "output_type": "stream",
          "name": "stdout",
          "text": [
            "Mounted at /content/drive\n"
          ]
        }
      ],
      "source": [
        "from google.colab import drive\n",
        "drive.mount('/content/drive')"
      ]
    },
    {
      "cell_type": "code",
      "execution_count": null,
      "metadata": {
        "colab": {
          "base_uri": "https://localhost:8080/"
        },
        "id": "hhvzo_RZrSls",
        "outputId": "db71ee5e-2c99-4223-e982-d5a706e1d101"
      },
      "outputs": [
        {
          "output_type": "stream",
          "name": "stdout",
          "text": [
            "Dataset size: 1599999\n"
          ]
        }
      ],
      "source": [
        "print(\"Dataset size:\", len(df))"
      ]
    },
    {
      "cell_type": "code",
      "execution_count": null,
      "metadata": {
        "id": "nEgbmHSzrSlt"
      },
      "outputs": [],
      "source": [
        "df = df.rename(columns = {\"0\": \"target\", \"1467810369\": \"ids\", \"Mon Apr 06 22:19:45 PDT 2009\":\"date\", \"NO_QUERY\":\"flag\", \"_TheSpecialOne_\": \"user\", \"@switchfoot http://twitpic.com/2y1zl - Awww, that's a bummer.  You shoulda got David Carr of Third Day to do it. ;D\": \"text\"})"
      ]
    },
    {
      "cell_type": "code",
      "execution_count": null,
      "metadata": {
        "colab": {
          "base_uri": "https://localhost:8080/",
          "height": 206
        },
        "id": "lLE0fwS9vtnj",
        "outputId": "924bde13-0cbe-4e5d-8f9e-f31523774534"
      },
      "outputs": [
        {
          "output_type": "execute_result",
          "data": {
            "text/plain": [
              "   target         ids                          date      flag           user  \\\n",
              "0       0  1467810672  Mon Apr 06 22:19:49 PDT 2009  NO_QUERY  scotthamilton   \n",
              "1       0  1467810917  Mon Apr 06 22:19:53 PDT 2009  NO_QUERY       mattycus   \n",
              "2       0  1467811184  Mon Apr 06 22:19:57 PDT 2009  NO_QUERY        ElleCTF   \n",
              "3       0  1467811193  Mon Apr 06 22:19:57 PDT 2009  NO_QUERY         Karoli   \n",
              "4       0  1467811372  Mon Apr 06 22:20:00 PDT 2009  NO_QUERY       joy_wolf   \n",
              "\n",
              "                                                text  \n",
              "0  is upset that he can't update his Facebook by ...  \n",
              "1  @Kenichan I dived many times for the ball. Man...  \n",
              "2    my whole body feels itchy and like its on fire   \n",
              "3  @nationwideclass no, it's not behaving at all....  \n",
              "4                      @Kwesidei not the whole crew   "
            ],
            "text/html": [
              "\n",
              "  <div id=\"df-c389034c-3b9e-4136-8a93-7f051102c532\">\n",
              "    <div class=\"colab-df-container\">\n",
              "      <div>\n",
              "<style scoped>\n",
              "    .dataframe tbody tr th:only-of-type {\n",
              "        vertical-align: middle;\n",
              "    }\n",
              "\n",
              "    .dataframe tbody tr th {\n",
              "        vertical-align: top;\n",
              "    }\n",
              "\n",
              "    .dataframe thead th {\n",
              "        text-align: right;\n",
              "    }\n",
              "</style>\n",
              "<table border=\"1\" class=\"dataframe\">\n",
              "  <thead>\n",
              "    <tr style=\"text-align: right;\">\n",
              "      <th></th>\n",
              "      <th>target</th>\n",
              "      <th>ids</th>\n",
              "      <th>date</th>\n",
              "      <th>flag</th>\n",
              "      <th>user</th>\n",
              "      <th>text</th>\n",
              "    </tr>\n",
              "  </thead>\n",
              "  <tbody>\n",
              "    <tr>\n",
              "      <th>0</th>\n",
              "      <td>0</td>\n",
              "      <td>1467810672</td>\n",
              "      <td>Mon Apr 06 22:19:49 PDT 2009</td>\n",
              "      <td>NO_QUERY</td>\n",
              "      <td>scotthamilton</td>\n",
              "      <td>is upset that he can't update his Facebook by ...</td>\n",
              "    </tr>\n",
              "    <tr>\n",
              "      <th>1</th>\n",
              "      <td>0</td>\n",
              "      <td>1467810917</td>\n",
              "      <td>Mon Apr 06 22:19:53 PDT 2009</td>\n",
              "      <td>NO_QUERY</td>\n",
              "      <td>mattycus</td>\n",
              "      <td>@Kenichan I dived many times for the ball. Man...</td>\n",
              "    </tr>\n",
              "    <tr>\n",
              "      <th>2</th>\n",
              "      <td>0</td>\n",
              "      <td>1467811184</td>\n",
              "      <td>Mon Apr 06 22:19:57 PDT 2009</td>\n",
              "      <td>NO_QUERY</td>\n",
              "      <td>ElleCTF</td>\n",
              "      <td>my whole body feels itchy and like its on fire</td>\n",
              "    </tr>\n",
              "    <tr>\n",
              "      <th>3</th>\n",
              "      <td>0</td>\n",
              "      <td>1467811193</td>\n",
              "      <td>Mon Apr 06 22:19:57 PDT 2009</td>\n",
              "      <td>NO_QUERY</td>\n",
              "      <td>Karoli</td>\n",
              "      <td>@nationwideclass no, it's not behaving at all....</td>\n",
              "    </tr>\n",
              "    <tr>\n",
              "      <th>4</th>\n",
              "      <td>0</td>\n",
              "      <td>1467811372</td>\n",
              "      <td>Mon Apr 06 22:20:00 PDT 2009</td>\n",
              "      <td>NO_QUERY</td>\n",
              "      <td>joy_wolf</td>\n",
              "      <td>@Kwesidei not the whole crew</td>\n",
              "    </tr>\n",
              "  </tbody>\n",
              "</table>\n",
              "</div>\n",
              "      <button class=\"colab-df-convert\" onclick=\"convertToInteractive('df-c389034c-3b9e-4136-8a93-7f051102c532')\"\n",
              "              title=\"Convert this dataframe to an interactive table.\"\n",
              "              style=\"display:none;\">\n",
              "        \n",
              "  <svg xmlns=\"http://www.w3.org/2000/svg\" height=\"24px\"viewBox=\"0 0 24 24\"\n",
              "       width=\"24px\">\n",
              "    <path d=\"M0 0h24v24H0V0z\" fill=\"none\"/>\n",
              "    <path d=\"M18.56 5.44l.94 2.06.94-2.06 2.06-.94-2.06-.94-.94-2.06-.94 2.06-2.06.94zm-11 1L8.5 8.5l.94-2.06 2.06-.94-2.06-.94L8.5 2.5l-.94 2.06-2.06.94zm10 10l.94 2.06.94-2.06 2.06-.94-2.06-.94-.94-2.06-.94 2.06-2.06.94z\"/><path d=\"M17.41 7.96l-1.37-1.37c-.4-.4-.92-.59-1.43-.59-.52 0-1.04.2-1.43.59L10.3 9.45l-7.72 7.72c-.78.78-.78 2.05 0 2.83L4 21.41c.39.39.9.59 1.41.59.51 0 1.02-.2 1.41-.59l7.78-7.78 2.81-2.81c.8-.78.8-2.07 0-2.86zM5.41 20L4 18.59l7.72-7.72 1.47 1.35L5.41 20z\"/>\n",
              "  </svg>\n",
              "      </button>\n",
              "      \n",
              "  <style>\n",
              "    .colab-df-container {\n",
              "      display:flex;\n",
              "      flex-wrap:wrap;\n",
              "      gap: 12px;\n",
              "    }\n",
              "\n",
              "    .colab-df-convert {\n",
              "      background-color: #E8F0FE;\n",
              "      border: none;\n",
              "      border-radius: 50%;\n",
              "      cursor: pointer;\n",
              "      display: none;\n",
              "      fill: #1967D2;\n",
              "      height: 32px;\n",
              "      padding: 0 0 0 0;\n",
              "      width: 32px;\n",
              "    }\n",
              "\n",
              "    .colab-df-convert:hover {\n",
              "      background-color: #E2EBFA;\n",
              "      box-shadow: 0px 1px 2px rgba(60, 64, 67, 0.3), 0px 1px 3px 1px rgba(60, 64, 67, 0.15);\n",
              "      fill: #174EA6;\n",
              "    }\n",
              "\n",
              "    [theme=dark] .colab-df-convert {\n",
              "      background-color: #3B4455;\n",
              "      fill: #D2E3FC;\n",
              "    }\n",
              "\n",
              "    [theme=dark] .colab-df-convert:hover {\n",
              "      background-color: #434B5C;\n",
              "      box-shadow: 0px 1px 3px 1px rgba(0, 0, 0, 0.15);\n",
              "      filter: drop-shadow(0px 1px 2px rgba(0, 0, 0, 0.3));\n",
              "      fill: #FFFFFF;\n",
              "    }\n",
              "  </style>\n",
              "\n",
              "      <script>\n",
              "        const buttonEl =\n",
              "          document.querySelector('#df-c389034c-3b9e-4136-8a93-7f051102c532 button.colab-df-convert');\n",
              "        buttonEl.style.display =\n",
              "          google.colab.kernel.accessAllowed ? 'block' : 'none';\n",
              "\n",
              "        async function convertToInteractive(key) {\n",
              "          const element = document.querySelector('#df-c389034c-3b9e-4136-8a93-7f051102c532');\n",
              "          const dataTable =\n",
              "            await google.colab.kernel.invokeFunction('convertToInteractive',\n",
              "                                                     [key], {});\n",
              "          if (!dataTable) return;\n",
              "\n",
              "          const docLinkHtml = 'Like what you see? Visit the ' +\n",
              "            '<a target=\"_blank\" href=https://colab.research.google.com/notebooks/data_table.ipynb>data table notebook</a>'\n",
              "            + ' to learn more about interactive tables.';\n",
              "          element.innerHTML = '';\n",
              "          dataTable['output_type'] = 'display_data';\n",
              "          await google.colab.output.renderOutput(dataTable, element);\n",
              "          const docLink = document.createElement('div');\n",
              "          docLink.innerHTML = docLinkHtml;\n",
              "          element.appendChild(docLink);\n",
              "        }\n",
              "      </script>\n",
              "    </div>\n",
              "  </div>\n",
              "  "
            ]
          },
          "metadata": {},
          "execution_count": 11
        }
      ],
      "source": [
        "df.head()"
      ]
    },
    {
      "cell_type": "markdown",
      "metadata": {
        "id": "YF_aTEegrSlt"
      },
      "source": [
        "### Map target label to String\n",
        "* **0** -> **NEGATIVE**\n",
        "* **2** -> **NEUTRAL**\n",
        "* **4** -> **POSITIVE**"
      ]
    },
    {
      "cell_type": "code",
      "execution_count": null,
      "metadata": {
        "id": "PFvDjSU-rSlu"
      },
      "outputs": [],
      "source": [
        "decode_map = {0: \"NEGATIVE\", 2: \"NEUTRAL\", 4: \"POSITIVE\"}\n",
        "def decode_sentiment(label):\n",
        "    return decode_map[int(label)]"
      ]
    },
    {
      "cell_type": "code",
      "execution_count": null,
      "metadata": {
        "colab": {
          "base_uri": "https://localhost:8080/"
        },
        "id": "w4iHMq8DrSlu",
        "outputId": "0ba4db63-4601-428e-e728-d4b6b830e19f"
      },
      "outputs": [
        {
          "output_type": "stream",
          "name": "stdout",
          "text": [
            "CPU times: user 506 ms, sys: 2.26 ms, total: 508 ms\n",
            "Wall time: 515 ms\n"
          ]
        }
      ],
      "source": [
        "%%time\n",
        "df.target = df.target.apply(lambda x: decode_sentiment(x))"
      ]
    },
    {
      "cell_type": "code",
      "execution_count": null,
      "metadata": {
        "colab": {
          "base_uri": "https://localhost:8080/",
          "height": 516
        },
        "id": "0_W3-TpwrSlv",
        "outputId": "96288be0-64cd-4abb-fccb-ba8d3cbac072"
      },
      "outputs": [
        {
          "output_type": "execute_result",
          "data": {
            "text/plain": [
              "Text(0.5, 1.0, 'Dataset labels distribuition')"
            ]
          },
          "metadata": {},
          "execution_count": 10
        },
        {
          "output_type": "display_data",
          "data": {
            "text/plain": [
              "<Figure size 1152x576 with 1 Axes>"
            ],
            "image/png": "[encoded data removed]"
          },
          "metadata": {
            "needs_background": "light"
          }
        }
      ],
      "source": [
        "target_cnt = Counter(df.target)\n",
        "\n",
        "plt.figure(figsize=(16,8))\n",
        "plt.bar(target_cnt.keys(), target_cnt.values())\n",
        "plt.title(\"Dataset labels distribuition\")"
      ]
    },
    {
      "cell_type": "code",
      "source": [
        "import nltk\n",
        "nltk.download('stopwords')"
      ],
      "metadata": {
        "colab": {
          "base_uri": "https://localhost:8080/"
        },
        "id": "0ZpJ390GDLda",
        "outputId": "e6334c39-e27f-408e-a3e5-c7b3d03eb693"
      },
      "execution_count": null,
      "outputs": [
        {
          "output_type": "stream",
          "name": "stderr",
          "text": [
            "[nltk_data] Downloading package stopwords to /root/nltk_data...\n",
            "[nltk_data]   Unzipping corpora/stopwords.zip.\n"
          ]
        },
        {
          "output_type": "execute_result",
          "data": {
            "text/plain": [
              "True"
            ]
          },
          "metadata": {},
          "execution_count": 18
        }
      ]
    },
    {
      "cell_type": "markdown",
      "metadata": {
        "id": "OA8cqavtrSlv"
      },
      "source": [
        "### Pre-Process dataset"
      ]
    },
    {
      "cell_type": "code",
      "execution_count": null,
      "metadata": {
        "id": "8qOsCtAgrSlv"
      },
      "outputs": [],
      "source": [
        "stop_words = stopwords.words(\"english\")\n",
        "stemmer = SnowballStemmer(\"english\")"
      ]
    },
    {
      "cell_type": "code",
      "execution_count": null,
      "metadata": {
        "id": "1xchMMPorSlw"
      },
      "outputs": [],
      "source": [
        "def preprocess(text, stem=False):\n",
        "    # Remove link,user and special characters\n",
        "    text = re.sub(TEXT_CLEANING_RE, ' ', str(text).lower()).strip()\n",
        "    tokens = []\n",
        "    for token in text.split():\n",
        "        if token not in stop_words:\n",
        "            if stem:\n",
        "                tokens.append(stemmer.stem(token))\n",
        "            else:\n",
        "                tokens.append(token)\n",
        "    return \" \".join(tokens)"
      ]
    },
    {
      "cell_type": "code",
      "execution_count": null,
      "metadata": {
        "colab": {
          "base_uri": "https://localhost:8080/"
        },
        "id": "kMR8_36rrSlw",
        "outputId": "f6f33dce-b4e4-4f5a-9f14-3da9fea7a4e7"
      },
      "outputs": [
        {
          "output_type": "stream",
          "name": "stdout",
          "text": [
            "CPU times: user 1min 2s, sys: 436 ms, total: 1min 3s\n",
            "Wall time: 1min 4s\n"
          ]
        }
      ],
      "source": [
        "%%time\n",
        "df.text = df.text.apply(lambda x: preprocess(x))"
      ]
    },
    {
      "cell_type": "markdown",
      "metadata": {
        "id": "_fz6rCtArSlw"
      },
      "source": [
        "### Split train and test"
      ]
    },
    {
      "cell_type": "code",
      "execution_count": null,
      "metadata": {
        "colab": {
          "base_uri": "https://localhost:8080/"
        },
        "id": "wYOH9A9mrSlx",
        "outputId": "34b763b4-0365-428d-84b5-8696e59dbb29"
      },
      "outputs": [
        {
          "output_type": "stream",
          "name": "stdout",
          "text": [
            "TRAIN size: 1279999\n",
            "TEST size: 320000\n"
          ]
        }
      ],
      "source": [
        "df_train, df_test = train_test_split(df, test_size=1-TRAIN_SIZE, random_state=42)\n",
        "print(\"TRAIN size:\", len(df_train))\n",
        "print(\"TEST size:\", len(df_test))"
      ]
    },
    {
      "cell_type": "code",
      "source": [
        "df_train = df_train.iloc[0:100000,:]\n",
        "df_train.shape"
      ],
      "metadata": {
        "colab": {
          "base_uri": "https://localhost:8080/"
        },
        "id": "pqbqoK61cFzr",
        "outputId": "d5188c86-566c-49bf-a8fd-8cd4578879f6"
      },
      "execution_count": null,
      "outputs": [
        {
          "output_type": "execute_result",
          "data": {
            "text/plain": [
              "(100000, 6)"
            ]
          },
          "metadata": {},
          "execution_count": 38
        }
      ]
    },
    {
      "cell_type": "markdown",
      "metadata": {
        "id": "WoZVIO7GrSlx"
      },
      "source": [
        "### Word2Vec "
      ]
    },
    {
      "cell_type": "code",
      "execution_count": null,
      "metadata": {
        "colab": {
          "base_uri": "https://localhost:8080/"
        },
        "id": "FNw8nD3DrSlx",
        "outputId": "86b1b2c5-4ef7-438d-ef5c-a98b9a0ec4f5"
      },
      "outputs": [
        {
          "output_type": "stream",
          "name": "stdout",
          "text": [
            "CPU times: user 159 ms, sys: 67 ms, total: 226 ms\n",
            "Wall time: 228 ms\n"
          ]
        }
      ],
      "source": [
        "%%time\n",
        "documents = [_text.split() for _text in df_train.text] "
      ]
    },
    {
      "cell_type": "code",
      "execution_count": null,
      "metadata": {
        "id": "ViuyqPhirSlx"
      },
      "outputs": [],
      "source": [
        "w2v_model = gensim.models.word2vec.Word2Vec(size=W2V_SIZE, \n",
        "                                            window=W2V_WINDOW, \n",
        "                                            min_count=W2V_MIN_COUNT, \n",
        "                                            workers=8)"
      ]
    },
    {
      "cell_type": "code",
      "execution_count": null,
      "metadata": {
        "colab": {
          "base_uri": "https://localhost:8080/"
        },
        "id": "ZL5-bGU8rSly",
        "outputId": "d1a51638-3c8d-4e5c-9193-ed240d1aa84e"
      },
      "outputs": [
        {
          "output_type": "stream",
          "name": "stderr",
          "text": [
            "2022-06-20 17:06:35,307 : INFO : collecting all words and their counts\n",
            "2022-06-20 17:06:35,310 : INFO : PROGRESS: at sentence #0, processed 0 words, keeping 0 word types\n",
            "2022-06-20 17:06:35,343 : INFO : PROGRESS: at sentence #10000, processed 72235 words, keeping 13814 word types\n",
            "2022-06-20 17:06:35,376 : INFO : PROGRESS: at sentence #20000, processed 144002 words, keeping 21347 word types\n",
            "2022-06-20 17:06:35,409 : INFO : PROGRESS: at sentence #30000, processed 215863 words, keeping 27558 word types\n",
            "2022-06-20 17:06:35,443 : INFO : PROGRESS: at sentence #40000, processed 288775 words, keeping 32794 word types\n",
            "2022-06-20 17:06:35,475 : INFO : PROGRESS: at sentence #50000, processed 361030 words, keeping 37709 word types\n",
            "2022-06-20 17:06:35,508 : INFO : PROGRESS: at sentence #60000, processed 432872 words, keeping 42207 word types\n",
            "2022-06-20 17:06:35,541 : INFO : PROGRESS: at sentence #70000, processed 504867 words, keeping 46410 word types\n",
            "2022-06-20 17:06:35,575 : INFO : PROGRESS: at sentence #80000, processed 576735 words, keeping 50460 word types\n",
            "2022-06-20 17:06:35,606 : INFO : PROGRESS: at sentence #90000, processed 648507 words, keeping 54263 word types\n",
            "2022-06-20 17:06:35,636 : INFO : collected 57824 word types from a corpus of 719751 raw words and 100000 sentences\n",
            "2022-06-20 17:06:35,638 : INFO : Loading a fresh vocabulary\n",
            "2022-06-20 17:06:35,688 : INFO : effective_min_count=10 retains 6398 unique words (11% of original 57824, drops 51426)\n",
            "2022-06-20 17:06:35,690 : INFO : effective_min_count=10 leaves 626035 word corpus (86% of original 719751, drops 93716)\n",
            "2022-06-20 17:06:35,721 : INFO : deleting the raw counts dictionary of 57824 items\n",
            "2022-06-20 17:06:35,726 : INFO : sample=0.001 downsamples 51 most-common words\n",
            "2022-06-20 17:06:35,728 : INFO : downsampling leaves estimated 576784 word corpus (92.1% of prior 626035)\n",
            "2022-06-20 17:06:35,774 : INFO : estimated required memory for 6398 words and 300 dimensions: 18554200 bytes\n",
            "2022-06-20 17:06:35,779 : INFO : resetting layer weights\n"
          ]
        }
      ],
      "source": [
        "w2v_model.build_vocab(documents)"
      ]
    },
    {
      "cell_type": "code",
      "execution_count": null,
      "metadata": {
        "colab": {
          "base_uri": "https://localhost:8080/"
        },
        "id": "PXCs6BXJrSly",
        "outputId": "fbfc7f75-394f-417c-a47a-9caded6e2596"
      },
      "outputs": [
        {
          "output_type": "stream",
          "name": "stdout",
          "text": [
            "Vocab size 6398\n"
          ]
        }
      ],
      "source": [
        "words = w2v_model.wv.vocab.keys()\n",
        "vocab_size = len(words)\n",
        "print(\"Vocab size\", vocab_size)"
      ]
    },
    {
      "cell_type": "code",
      "execution_count": null,
      "metadata": {
        "colab": {
          "base_uri": "https://localhost:8080/"
        },
        "id": "NftMX1g_rSly",
        "outputId": "b277a7bf-9279-4768-cc1e-ddda314ab8b3"
      },
      "outputs": [
        {
          "output_type": "stream",
          "name": "stderr",
          "text": [
            "2022-06-20 17:06:42,071 : INFO : training model with 8 workers on 6398 vocabulary and 300 features, using sg=0 hs=0 sample=0.001 negative=5 window=7\n",
            "2022-06-20 17:06:43,171 : INFO : EPOCH 1 - PROGRESS: at 58.16% examples, 310038 words/s, in_qsize 15, out_qsize 1\n",
            "2022-06-20 17:06:43,586 : INFO : worker thread finished; awaiting finish of 7 more threads\n",
            "2022-06-20 17:06:43,590 : INFO : worker thread finished; awaiting finish of 6 more threads\n",
            "2022-06-20 17:06:43,599 : INFO : worker thread finished; awaiting finish of 5 more threads\n",
            "2022-06-20 17:06:43,605 : INFO : worker thread finished; awaiting finish of 4 more threads\n",
            "2022-06-20 17:06:43,644 : INFO : worker thread finished; awaiting finish of 3 more threads\n",
            "2022-06-20 17:06:43,669 : INFO : worker thread finished; awaiting finish of 2 more threads\n",
            "2022-06-20 17:06:43,677 : INFO : worker thread finished; awaiting finish of 1 more threads\n",
            "2022-06-20 17:06:43,678 : INFO : worker thread finished; awaiting finish of 0 more threads\n",
            "2022-06-20 17:06:43,682 : INFO : EPOCH - 1 : training on 719751 raw words (576574 effective words) took 1.6s, 361487 effective words/s\n",
            "2022-06-20 17:06:44,855 : INFO : EPOCH 2 - PROGRESS: at 55.36% examples, 280596 words/s, in_qsize 13, out_qsize 6\n",
            "2022-06-20 17:06:45,324 : INFO : worker thread finished; awaiting finish of 7 more threads\n",
            "2022-06-20 17:06:45,329 : INFO : worker thread finished; awaiting finish of 6 more threads\n",
            "2022-06-20 17:06:45,338 : INFO : worker thread finished; awaiting finish of 5 more threads\n",
            "2022-06-20 17:06:45,346 : INFO : worker thread finished; awaiting finish of 4 more threads\n",
            "2022-06-20 17:06:45,357 : INFO : worker thread finished; awaiting finish of 3 more threads\n",
            "2022-06-20 17:06:45,405 : INFO : worker thread finished; awaiting finish of 2 more threads\n",
            "2022-06-20 17:06:45,409 : INFO : worker thread finished; awaiting finish of 1 more threads\n",
            "2022-06-20 17:06:45,414 : INFO : worker thread finished; awaiting finish of 0 more threads\n",
            "2022-06-20 17:06:45,416 : INFO : EPOCH - 2 : training on 719751 raw words (576904 effective words) took 1.7s, 338711 effective words/s\n",
            "2022-06-20 17:06:46,539 : INFO : EPOCH 3 - PROGRESS: at 58.16% examples, 313176 words/s, in_qsize 15, out_qsize 2\n",
            "2022-06-20 17:06:46,976 : INFO : worker thread finished; awaiting finish of 7 more threads\n",
            "2022-06-20 17:06:46,988 : INFO : worker thread finished; awaiting finish of 6 more threads\n",
            "2022-06-20 17:06:46,990 : INFO : worker thread finished; awaiting finish of 5 more threads\n",
            "2022-06-20 17:06:46,998 : INFO : worker thread finished; awaiting finish of 4 more threads\n",
            "2022-06-20 17:06:47,017 : INFO : worker thread finished; awaiting finish of 3 more threads\n",
            "2022-06-20 17:06:47,055 : INFO : worker thread finished; awaiting finish of 2 more threads\n",
            "2022-06-20 17:06:47,057 : INFO : worker thread finished; awaiting finish of 1 more threads\n",
            "2022-06-20 17:06:47,076 : INFO : worker thread finished; awaiting finish of 0 more threads\n",
            "2022-06-20 17:06:47,078 : INFO : EPOCH - 3 : training on 719751 raw words (576496 effective words) took 1.6s, 350658 effective words/s\n",
            "2022-06-20 17:06:48,150 : INFO : EPOCH 4 - PROGRESS: at 59.59% examples, 326523 words/s, in_qsize 16, out_qsize 0\n",
            "2022-06-20 17:06:48,589 : INFO : worker thread finished; awaiting finish of 7 more threads\n",
            "2022-06-20 17:06:48,595 : INFO : worker thread finished; awaiting finish of 6 more threads\n",
            "2022-06-20 17:06:48,633 : INFO : worker thread finished; awaiting finish of 5 more threads\n",
            "2022-06-20 17:06:48,664 : INFO : worker thread finished; awaiting finish of 4 more threads\n",
            "2022-06-20 17:06:48,673 : INFO : worker thread finished; awaiting finish of 3 more threads\n",
            "2022-06-20 17:06:48,688 : INFO : worker thread finished; awaiting finish of 2 more threads\n",
            "2022-06-20 17:06:48,692 : INFO : worker thread finished; awaiting finish of 1 more threads\n",
            "2022-06-20 17:06:48,696 : INFO : worker thread finished; awaiting finish of 0 more threads\n",
            "2022-06-20 17:06:48,698 : INFO : EPOCH - 4 : training on 719751 raw words (577004 effective words) took 1.6s, 359924 effective words/s\n",
            "2022-06-20 17:06:49,798 : INFO : EPOCH 5 - PROGRESS: at 55.39% examples, 300331 words/s, in_qsize 13, out_qsize 2\n",
            "2022-06-20 17:06:50,272 : INFO : worker thread finished; awaiting finish of 7 more threads\n",
            "2022-06-20 17:06:50,288 : INFO : worker thread finished; awaiting finish of 6 more threads\n",
            "2022-06-20 17:06:50,310 : INFO : worker thread finished; awaiting finish of 5 more threads\n",
            "2022-06-20 17:06:50,324 : INFO : worker thread finished; awaiting finish of 4 more threads\n",
            "2022-06-20 17:06:50,326 : INFO : worker thread finished; awaiting finish of 3 more threads\n",
            "2022-06-20 17:06:50,333 : INFO : worker thread finished; awaiting finish of 2 more threads\n",
            "2022-06-20 17:06:50,364 : INFO : worker thread finished; awaiting finish of 1 more threads\n",
            "2022-06-20 17:06:50,372 : INFO : worker thread finished; awaiting finish of 0 more threads\n",
            "2022-06-20 17:06:50,374 : INFO : EPOCH - 5 : training on 719751 raw words (577064 effective words) took 1.6s, 351159 effective words/s\n",
            "2022-06-20 17:06:51,423 : INFO : EPOCH 6 - PROGRESS: at 60.99% examples, 341173 words/s, in_qsize 16, out_qsize 0\n",
            "2022-06-20 17:06:51,873 : INFO : worker thread finished; awaiting finish of 7 more threads\n",
            "2022-06-20 17:06:51,889 : INFO : worker thread finished; awaiting finish of 6 more threads\n",
            "2022-06-20 17:06:51,922 : INFO : worker thread finished; awaiting finish of 5 more threads\n",
            "2022-06-20 17:06:51,977 : INFO : worker thread finished; awaiting finish of 4 more threads\n",
            "2022-06-20 17:06:51,989 : INFO : worker thread finished; awaiting finish of 3 more threads\n",
            "2022-06-20 17:06:51,998 : INFO : worker thread finished; awaiting finish of 2 more threads\n",
            "2022-06-20 17:06:52,000 : INFO : worker thread finished; awaiting finish of 1 more threads\n",
            "2022-06-20 17:06:52,002 : INFO : worker thread finished; awaiting finish of 0 more threads\n",
            "2022-06-20 17:06:52,005 : INFO : EPOCH - 6 : training on 719751 raw words (576839 effective words) took 1.6s, 357191 effective words/s\n",
            "2022-06-20 17:06:53,038 : INFO : EPOCH 7 - PROGRESS: at 49.81% examples, 284948 words/s, in_qsize 10, out_qsize 4\n",
            "2022-06-20 17:06:53,613 : INFO : worker thread finished; awaiting finish of 7 more threads\n",
            "2022-06-20 17:06:53,622 : INFO : worker thread finished; awaiting finish of 6 more threads\n",
            "2022-06-20 17:06:53,625 : INFO : worker thread finished; awaiting finish of 5 more threads\n",
            "2022-06-20 17:06:53,647 : INFO : worker thread finished; awaiting finish of 4 more threads\n",
            "2022-06-20 17:06:53,669 : INFO : worker thread finished; awaiting finish of 3 more threads\n",
            "2022-06-20 17:06:53,675 : INFO : worker thread finished; awaiting finish of 2 more threads\n",
            "2022-06-20 17:06:53,687 : INFO : worker thread finished; awaiting finish of 1 more threads\n",
            "2022-06-20 17:06:53,699 : INFO : worker thread finished; awaiting finish of 0 more threads\n",
            "2022-06-20 17:06:53,701 : INFO : EPOCH - 7 : training on 719751 raw words (576667 effective words) took 1.7s, 344344 effective words/s\n",
            "2022-06-20 17:06:54,743 : INFO : EPOCH 8 - PROGRESS: at 55.39% examples, 312078 words/s, in_qsize 15, out_qsize 0\n",
            "2022-06-20 17:06:55,273 : INFO : worker thread finished; awaiting finish of 7 more threads\n",
            "2022-06-20 17:06:55,278 : INFO : worker thread finished; awaiting finish of 6 more threads\n",
            "2022-06-20 17:06:55,284 : INFO : worker thread finished; awaiting finish of 5 more threads\n",
            "2022-06-20 17:06:55,317 : INFO : worker thread finished; awaiting finish of 4 more threads\n",
            "2022-06-20 17:06:55,356 : INFO : worker thread finished; awaiting finish of 3 more threads\n",
            "2022-06-20 17:06:55,373 : INFO : worker thread finished; awaiting finish of 2 more threads\n",
            "2022-06-20 17:06:55,383 : INFO : worker thread finished; awaiting finish of 1 more threads\n",
            "2022-06-20 17:06:55,389 : INFO : worker thread finished; awaiting finish of 0 more threads\n",
            "2022-06-20 17:06:55,391 : INFO : EPOCH - 8 : training on 719751 raw words (576632 effective words) took 1.7s, 344249 effective words/s\n",
            "2022-06-20 17:06:56,455 : INFO : EPOCH 9 - PROGRESS: at 56.75% examples, 316262 words/s, in_qsize 15, out_qsize 0\n",
            "2022-06-20 17:06:56,892 : INFO : worker thread finished; awaiting finish of 7 more threads\n",
            "2022-06-20 17:06:56,911 : INFO : worker thread finished; awaiting finish of 6 more threads\n",
            "2022-06-20 17:06:56,913 : INFO : worker thread finished; awaiting finish of 5 more threads\n",
            "2022-06-20 17:06:56,930 : INFO : worker thread finished; awaiting finish of 4 more threads\n",
            "2022-06-20 17:06:56,964 : INFO : worker thread finished; awaiting finish of 3 more threads\n",
            "2022-06-20 17:06:56,981 : INFO : worker thread finished; awaiting finish of 2 more threads\n",
            "2022-06-20 17:06:56,993 : INFO : worker thread finished; awaiting finish of 1 more threads\n",
            "2022-06-20 17:06:56,999 : INFO : worker thread finished; awaiting finish of 0 more threads\n",
            "2022-06-20 17:06:57,001 : INFO : EPOCH - 9 : training on 719751 raw words (576613 effective words) took 1.6s, 364049 effective words/s\n",
            "2022-06-20 17:06:58,095 : INFO : EPOCH 10 - PROGRESS: at 58.16% examples, 314441 words/s, in_qsize 14, out_qsize 1\n",
            "2022-06-20 17:06:58,597 : INFO : worker thread finished; awaiting finish of 7 more threads\n",
            "2022-06-20 17:06:58,601 : INFO : worker thread finished; awaiting finish of 6 more threads\n",
            "2022-06-20 17:06:58,603 : INFO : worker thread finished; awaiting finish of 5 more threads\n",
            "2022-06-20 17:06:58,606 : INFO : worker thread finished; awaiting finish of 4 more threads\n",
            "2022-06-20 17:06:58,638 : INFO : worker thread finished; awaiting finish of 3 more threads\n",
            "2022-06-20 17:06:58,671 : INFO : worker thread finished; awaiting finish of 2 more threads\n",
            "2022-06-20 17:06:58,683 : INFO : worker thread finished; awaiting finish of 1 more threads\n",
            "2022-06-20 17:06:58,691 : INFO : worker thread finished; awaiting finish of 0 more threads\n",
            "2022-06-20 17:06:58,692 : INFO : EPOCH - 10 : training on 719751 raw words (576659 effective words) took 1.7s, 345987 effective words/s\n",
            "2022-06-20 17:06:59,821 : INFO : EPOCH 11 - PROGRESS: at 56.81% examples, 294868 words/s, in_qsize 14, out_qsize 2\n",
            "2022-06-20 17:07:00,270 : INFO : worker thread finished; awaiting finish of 7 more threads\n",
            "2022-06-20 17:07:00,287 : INFO : worker thread finished; awaiting finish of 6 more threads\n",
            "2022-06-20 17:07:00,346 : INFO : worker thread finished; awaiting finish of 5 more threads\n",
            "2022-06-20 17:07:00,358 : INFO : worker thread finished; awaiting finish of 4 more threads\n",
            "2022-06-20 17:07:00,372 : INFO : worker thread finished; awaiting finish of 3 more threads\n",
            "2022-06-20 17:07:00,385 : INFO : worker thread finished; awaiting finish of 2 more threads\n",
            "2022-06-20 17:07:00,392 : INFO : worker thread finished; awaiting finish of 1 more threads\n",
            "2022-06-20 17:07:00,395 : INFO : worker thread finished; awaiting finish of 0 more threads\n",
            "2022-06-20 17:07:00,396 : INFO : EPOCH - 11 : training on 719751 raw words (576717 effective words) took 1.7s, 341498 effective words/s\n",
            "2022-06-20 17:07:01,446 : INFO : EPOCH 12 - PROGRESS: at 55.41% examples, 311424 words/s, in_qsize 15, out_qsize 1\n",
            "2022-06-20 17:07:01,948 : INFO : worker thread finished; awaiting finish of 7 more threads\n",
            "2022-06-20 17:07:01,977 : INFO : worker thread finished; awaiting finish of 6 more threads\n",
            "2022-06-20 17:07:02,022 : INFO : worker thread finished; awaiting finish of 5 more threads\n",
            "2022-06-20 17:07:02,032 : INFO : worker thread finished; awaiting finish of 4 more threads\n",
            "2022-06-20 17:07:02,047 : INFO : worker thread finished; awaiting finish of 3 more threads\n",
            "2022-06-20 17:07:02,061 : INFO : worker thread finished; awaiting finish of 2 more threads\n",
            "2022-06-20 17:07:02,070 : INFO : worker thread finished; awaiting finish of 1 more threads\n",
            "2022-06-20 17:07:02,072 : INFO : worker thread finished; awaiting finish of 0 more threads\n",
            "2022-06-20 17:07:02,077 : INFO : EPOCH - 12 : training on 719751 raw words (576771 effective words) took 1.7s, 347604 effective words/s\n",
            "2022-06-20 17:07:03,140 : INFO : EPOCH 13 - PROGRESS: at 52.62% examples, 290690 words/s, in_qsize 13, out_qsize 3\n",
            "2022-06-20 17:07:03,715 : INFO : worker thread finished; awaiting finish of 7 more threads\n",
            "2022-06-20 17:07:03,726 : INFO : worker thread finished; awaiting finish of 6 more threads\n",
            "2022-06-20 17:07:03,729 : INFO : worker thread finished; awaiting finish of 5 more threads\n",
            "2022-06-20 17:07:03,734 : INFO : worker thread finished; awaiting finish of 4 more threads\n",
            "2022-06-20 17:07:03,740 : INFO : worker thread finished; awaiting finish of 3 more threads\n",
            "2022-06-20 17:07:03,790 : INFO : worker thread finished; awaiting finish of 2 more threads\n",
            "2022-06-20 17:07:03,800 : INFO : worker thread finished; awaiting finish of 1 more threads\n",
            "2022-06-20 17:07:03,802 : INFO : worker thread finished; awaiting finish of 0 more threads\n",
            "2022-06-20 17:07:03,804 : INFO : EPOCH - 13 : training on 719751 raw words (576806 effective words) took 1.7s, 336947 effective words/s\n",
            "2022-06-20 17:07:04,893 : INFO : EPOCH 14 - PROGRESS: at 54.01% examples, 301543 words/s, in_qsize 15, out_qsize 1\n",
            "2022-06-20 17:07:05,439 : INFO : worker thread finished; awaiting finish of 7 more threads\n",
            "2022-06-20 17:07:05,442 : INFO : worker thread finished; awaiting finish of 6 more threads\n",
            "2022-06-20 17:07:05,453 : INFO : worker thread finished; awaiting finish of 5 more threads\n",
            "2022-06-20 17:07:05,458 : INFO : worker thread finished; awaiting finish of 4 more threads\n",
            "2022-06-20 17:07:05,481 : INFO : worker thread finished; awaiting finish of 3 more threads\n",
            "2022-06-20 17:07:05,490 : INFO : worker thread finished; awaiting finish of 2 more threads\n",
            "2022-06-20 17:07:05,513 : INFO : worker thread finished; awaiting finish of 1 more threads\n",
            "2022-06-20 17:07:05,525 : INFO : worker thread finished; awaiting finish of 0 more threads\n",
            "2022-06-20 17:07:05,527 : INFO : EPOCH - 14 : training on 719751 raw words (576585 effective words) took 1.7s, 339797 effective words/s\n",
            "2022-06-20 17:07:06,547 : INFO : EPOCH 15 - PROGRESS: at 49.83% examples, 286743 words/s, in_qsize 15, out_qsize 4\n",
            "2022-06-20 17:07:07,119 : INFO : worker thread finished; awaiting finish of 7 more threads\n",
            "2022-06-20 17:07:07,128 : INFO : worker thread finished; awaiting finish of 6 more threads\n",
            "2022-06-20 17:07:07,143 : INFO : worker thread finished; awaiting finish of 5 more threads\n",
            "2022-06-20 17:07:07,161 : INFO : worker thread finished; awaiting finish of 4 more threads\n",
            "2022-06-20 17:07:07,174 : INFO : worker thread finished; awaiting finish of 3 more threads\n",
            "2022-06-20 17:07:07,203 : INFO : worker thread finished; awaiting finish of 2 more threads\n",
            "2022-06-20 17:07:07,215 : INFO : worker thread finished; awaiting finish of 1 more threads\n",
            "2022-06-20 17:07:07,218 : INFO : worker thread finished; awaiting finish of 0 more threads\n",
            "2022-06-20 17:07:07,221 : INFO : EPOCH - 15 : training on 719751 raw words (576871 effective words) took 1.7s, 343329 effective words/s\n",
            "2022-06-20 17:07:08,264 : INFO : EPOCH 16 - PROGRESS: at 62.37% examples, 353697 words/s, in_qsize 15, out_qsize 0\n",
            "2022-06-20 17:07:08,659 : INFO : worker thread finished; awaiting finish of 7 more threads\n",
            "2022-06-20 17:07:08,672 : INFO : worker thread finished; awaiting finish of 6 more threads\n",
            "2022-06-20 17:07:08,684 : INFO : worker thread finished; awaiting finish of 5 more threads\n",
            "2022-06-20 17:07:08,724 : INFO : worker thread finished; awaiting finish of 4 more threads\n",
            "2022-06-20 17:07:08,738 : INFO : worker thread finished; awaiting finish of 3 more threads\n",
            "2022-06-20 17:07:08,771 : INFO : worker thread finished; awaiting finish of 2 more threads\n",
            "2022-06-20 17:07:08,778 : INFO : worker thread finished; awaiting finish of 1 more threads\n",
            "2022-06-20 17:07:08,785 : INFO : worker thread finished; awaiting finish of 0 more threads\n",
            "2022-06-20 17:07:08,786 : INFO : EPOCH - 16 : training on 719751 raw words (577023 effective words) took 1.5s, 374171 effective words/s\n",
            "2022-06-20 17:07:09,840 : INFO : EPOCH 17 - PROGRESS: at 56.81% examples, 325593 words/s, in_qsize 15, out_qsize 3\n",
            "2022-06-20 17:07:10,274 : INFO : worker thread finished; awaiting finish of 7 more threads\n",
            "2022-06-20 17:07:10,282 : INFO : worker thread finished; awaiting finish of 6 more threads\n",
            "2022-06-20 17:07:10,287 : INFO : worker thread finished; awaiting finish of 5 more threads\n",
            "2022-06-20 17:07:10,295 : INFO : worker thread finished; awaiting finish of 4 more threads\n",
            "2022-06-20 17:07:10,313 : INFO : worker thread finished; awaiting finish of 3 more threads\n",
            "2022-06-20 17:07:10,337 : INFO : worker thread finished; awaiting finish of 2 more threads\n",
            "2022-06-20 17:07:10,349 : INFO : worker thread finished; awaiting finish of 1 more threads\n",
            "2022-06-20 17:07:10,354 : INFO : worker thread finished; awaiting finish of 0 more threads\n",
            "2022-06-20 17:07:10,355 : INFO : EPOCH - 17 : training on 719751 raw words (576779 effective words) took 1.5s, 373367 effective words/s\n",
            "2022-06-20 17:07:11,412 : INFO : EPOCH 18 - PROGRESS: at 60.99% examples, 338499 words/s, in_qsize 15, out_qsize 0\n",
            "2022-06-20 17:07:11,809 : INFO : worker thread finished; awaiting finish of 7 more threads\n",
            "2022-06-20 17:07:11,849 : INFO : worker thread finished; awaiting finish of 6 more threads\n",
            "2022-06-20 17:07:11,857 : INFO : worker thread finished; awaiting finish of 5 more threads\n",
            "2022-06-20 17:07:11,893 : INFO : worker thread finished; awaiting finish of 4 more threads\n",
            "2022-06-20 17:07:11,896 : INFO : worker thread finished; awaiting finish of 3 more threads\n",
            "2022-06-20 17:07:11,913 : INFO : worker thread finished; awaiting finish of 2 more threads\n",
            "2022-06-20 17:07:11,916 : INFO : worker thread finished; awaiting finish of 1 more threads\n",
            "2022-06-20 17:07:11,928 : INFO : worker thread finished; awaiting finish of 0 more threads\n",
            "2022-06-20 17:07:11,930 : INFO : EPOCH - 18 : training on 719751 raw words (576697 effective words) took 1.6s, 369973 effective words/s\n",
            "2022-06-20 17:07:12,987 : INFO : EPOCH 19 - PROGRESS: at 56.81% examples, 315892 words/s, in_qsize 15, out_qsize 0\n",
            "2022-06-20 17:07:13,494 : INFO : worker thread finished; awaiting finish of 7 more threads\n",
            "2022-06-20 17:07:13,500 : INFO : worker thread finished; awaiting finish of 6 more threads\n",
            "2022-06-20 17:07:13,505 : INFO : worker thread finished; awaiting finish of 5 more threads\n",
            "2022-06-20 17:07:13,528 : INFO : worker thread finished; awaiting finish of 4 more threads\n",
            "2022-06-20 17:07:13,553 : INFO : worker thread finished; awaiting finish of 3 more threads\n",
            "2022-06-20 17:07:13,566 : INFO : worker thread finished; awaiting finish of 2 more threads\n",
            "2022-06-20 17:07:13,582 : INFO : worker thread finished; awaiting finish of 1 more threads\n",
            "2022-06-20 17:07:13,585 : INFO : worker thread finished; awaiting finish of 0 more threads\n",
            "2022-06-20 17:07:13,592 : INFO : EPOCH - 19 : training on 719751 raw words (576853 effective words) took 1.6s, 350638 effective words/s\n",
            "2022-06-20 17:07:14,646 : INFO : EPOCH 20 - PROGRESS: at 52.58% examples, 296488 words/s, in_qsize 15, out_qsize 0\n",
            "2022-06-20 17:07:15,266 : INFO : worker thread finished; awaiting finish of 7 more threads\n",
            "2022-06-20 17:07:15,274 : INFO : worker thread finished; awaiting finish of 6 more threads\n",
            "2022-06-20 17:07:15,279 : INFO : worker thread finished; awaiting finish of 5 more threads\n",
            "2022-06-20 17:07:15,285 : INFO : worker thread finished; awaiting finish of 4 more threads\n",
            "2022-06-20 17:07:15,298 : INFO : worker thread finished; awaiting finish of 3 more threads\n",
            "2022-06-20 17:07:15,308 : INFO : worker thread finished; awaiting finish of 2 more threads\n",
            "2022-06-20 17:07:15,327 : INFO : worker thread finished; awaiting finish of 1 more threads\n",
            "2022-06-20 17:07:15,348 : INFO : worker thread finished; awaiting finish of 0 more threads\n",
            "2022-06-20 17:07:15,351 : INFO : EPOCH - 20 : training on 719751 raw words (576840 effective words) took 1.7s, 333189 effective words/s\n",
            "2022-06-20 17:07:16,406 : INFO : EPOCH 21 - PROGRESS: at 55.38% examples, 308896 words/s, in_qsize 16, out_qsize 0\n",
            "2022-06-20 17:07:16,932 : INFO : worker thread finished; awaiting finish of 7 more threads\n",
            "2022-06-20 17:07:16,940 : INFO : worker thread finished; awaiting finish of 6 more threads\n",
            "2022-06-20 17:07:16,949 : INFO : worker thread finished; awaiting finish of 5 more threads\n",
            "2022-06-20 17:07:16,962 : INFO : worker thread finished; awaiting finish of 4 more threads\n",
            "2022-06-20 17:07:16,976 : INFO : worker thread finished; awaiting finish of 3 more threads\n",
            "2022-06-20 17:07:16,991 : INFO : worker thread finished; awaiting finish of 2 more threads\n",
            "2022-06-20 17:07:17,003 : INFO : worker thread finished; awaiting finish of 1 more threads\n",
            "2022-06-20 17:07:17,020 : INFO : worker thread finished; awaiting finish of 0 more threads\n",
            "2022-06-20 17:07:17,023 : INFO : EPOCH - 21 : training on 719751 raw words (577003 effective words) took 1.7s, 348714 effective words/s\n",
            "2022-06-20 17:07:18,131 : INFO : EPOCH 22 - PROGRESS: at 55.40% examples, 296056 words/s, in_qsize 15, out_qsize 2\n",
            "2022-06-20 17:07:18,587 : INFO : worker thread finished; awaiting finish of 7 more threads\n",
            "2022-06-20 17:07:18,607 : INFO : worker thread finished; awaiting finish of 6 more threads\n",
            "2022-06-20 17:07:18,641 : INFO : worker thread finished; awaiting finish of 5 more threads\n",
            "2022-06-20 17:07:18,650 : INFO : worker thread finished; awaiting finish of 4 more threads\n",
            "2022-06-20 17:07:18,658 : INFO : worker thread finished; awaiting finish of 3 more threads\n",
            "2022-06-20 17:07:18,662 : INFO : worker thread finished; awaiting finish of 2 more threads\n",
            "2022-06-20 17:07:18,681 : INFO : worker thread finished; awaiting finish of 1 more threads\n",
            "2022-06-20 17:07:18,697 : INFO : worker thread finished; awaiting finish of 0 more threads\n",
            "2022-06-20 17:07:18,699 : INFO : EPOCH - 22 : training on 719751 raw words (576884 effective words) took 1.6s, 349713 effective words/s\n",
            "2022-06-20 17:07:19,719 : INFO : EPOCH 23 - PROGRESS: at 60.97% examples, 350945 words/s, in_qsize 15, out_qsize 0\n",
            "2022-06-20 17:07:20,199 : INFO : worker thread finished; awaiting finish of 7 more threads\n",
            "2022-06-20 17:07:20,222 : INFO : worker thread finished; awaiting finish of 6 more threads\n",
            "2022-06-20 17:07:20,226 : INFO : worker thread finished; awaiting finish of 5 more threads\n",
            "2022-06-20 17:07:20,242 : INFO : worker thread finished; awaiting finish of 4 more threads\n",
            "2022-06-20 17:07:20,263 : INFO : worker thread finished; awaiting finish of 3 more threads\n",
            "2022-06-20 17:07:20,272 : INFO : worker thread finished; awaiting finish of 2 more threads\n",
            "2022-06-20 17:07:20,284 : INFO : worker thread finished; awaiting finish of 1 more threads\n",
            "2022-06-20 17:07:20,286 : INFO : worker thread finished; awaiting finish of 0 more threads\n",
            "2022-06-20 17:07:20,291 : INFO : EPOCH - 23 : training on 719751 raw words (576891 effective words) took 1.6s, 366006 effective words/s\n",
            "2022-06-20 17:07:21,378 : INFO : EPOCH 24 - PROGRESS: at 55.46% examples, 299754 words/s, in_qsize 16, out_qsize 2\n",
            "2022-06-20 17:07:21,813 : INFO : worker thread finished; awaiting finish of 7 more threads\n",
            "2022-06-20 17:07:21,822 : INFO : worker thread finished; awaiting finish of 6 more threads\n",
            "2022-06-20 17:07:21,825 : INFO : worker thread finished; awaiting finish of 5 more threads\n",
            "2022-06-20 17:07:21,833 : INFO : worker thread finished; awaiting finish of 4 more threads\n",
            "2022-06-20 17:07:21,892 : INFO : worker thread finished; awaiting finish of 3 more threads\n",
            "2022-06-20 17:07:21,911 : INFO : worker thread finished; awaiting finish of 2 more threads\n",
            "2022-06-20 17:07:21,916 : INFO : worker thread finished; awaiting finish of 1 more threads\n",
            "2022-06-20 17:07:21,921 : INFO : worker thread finished; awaiting finish of 0 more threads\n",
            "2022-06-20 17:07:21,923 : INFO : EPOCH - 24 : training on 719751 raw words (576938 effective words) took 1.6s, 357393 effective words/s\n",
            "2022-06-20 17:07:22,979 : INFO : EPOCH 25 - PROGRESS: at 62.37% examples, 355644 words/s, in_qsize 14, out_qsize 1\n",
            "2022-06-20 17:07:23,387 : INFO : worker thread finished; awaiting finish of 7 more threads\n",
            "2022-06-20 17:07:23,422 : INFO : worker thread finished; awaiting finish of 6 more threads\n",
            "2022-06-20 17:07:23,487 : INFO : worker thread finished; awaiting finish of 5 more threads\n",
            "2022-06-20 17:07:23,493 : INFO : worker thread finished; awaiting finish of 4 more threads\n",
            "2022-06-20 17:07:23,499 : INFO : worker thread finished; awaiting finish of 3 more threads\n",
            "2022-06-20 17:07:23,510 : INFO : worker thread finished; awaiting finish of 2 more threads\n",
            "2022-06-20 17:07:23,514 : INFO : worker thread finished; awaiting finish of 1 more threads\n",
            "2022-06-20 17:07:23,527 : INFO : worker thread finished; awaiting finish of 0 more threads\n",
            "2022-06-20 17:07:23,528 : INFO : EPOCH - 25 : training on 719751 raw words (576973 effective words) took 1.6s, 369139 effective words/s\n",
            "2022-06-20 17:07:24,557 : INFO : EPOCH 26 - PROGRESS: at 52.56% examples, 300782 words/s, in_qsize 12, out_qsize 3\n",
            "2022-06-20 17:07:25,099 : INFO : worker thread finished; awaiting finish of 7 more threads\n",
            "2022-06-20 17:07:25,119 : INFO : worker thread finished; awaiting finish of 6 more threads\n",
            "2022-06-20 17:07:25,164 : INFO : worker thread finished; awaiting finish of 5 more threads\n",
            "2022-06-20 17:07:25,173 : INFO : worker thread finished; awaiting finish of 4 more threads\n",
            "2022-06-20 17:07:25,177 : INFO : worker thread finished; awaiting finish of 3 more threads\n",
            "2022-06-20 17:07:25,191 : INFO : worker thread finished; awaiting finish of 2 more threads\n",
            "2022-06-20 17:07:25,205 : INFO : worker thread finished; awaiting finish of 1 more threads\n",
            "2022-06-20 17:07:25,217 : INFO : worker thread finished; awaiting finish of 0 more threads\n",
            "2022-06-20 17:07:25,218 : INFO : EPOCH - 26 : training on 719751 raw words (577032 effective words) took 1.7s, 344789 effective words/s\n",
            "2022-06-20 17:07:26,245 : INFO : EPOCH 27 - PROGRESS: at 56.78% examples, 324881 words/s, in_qsize 15, out_qsize 0\n",
            "2022-06-20 17:07:26,753 : INFO : worker thread finished; awaiting finish of 7 more threads\n",
            "2022-06-20 17:07:26,763 : INFO : worker thread finished; awaiting finish of 6 more threads\n",
            "2022-06-20 17:07:26,771 : INFO : worker thread finished; awaiting finish of 5 more threads\n",
            "2022-06-20 17:07:26,773 : INFO : worker thread finished; awaiting finish of 4 more threads\n",
            "2022-06-20 17:07:26,785 : INFO : worker thread finished; awaiting finish of 3 more threads\n",
            "2022-06-20 17:07:26,794 : INFO : worker thread finished; awaiting finish of 2 more threads\n",
            "2022-06-20 17:07:26,800 : INFO : worker thread finished; awaiting finish of 1 more threads\n",
            "2022-06-20 17:07:26,805 : INFO : worker thread finished; awaiting finish of 0 more threads\n",
            "2022-06-20 17:07:26,806 : INFO : EPOCH - 27 : training on 719751 raw words (576708 effective words) took 1.6s, 366886 effective words/s\n",
            "2022-06-20 17:07:27,841 : INFO : EPOCH 28 - PROGRESS: at 60.99% examples, 347762 words/s, in_qsize 15, out_qsize 0\n",
            "2022-06-20 17:07:28,303 : INFO : worker thread finished; awaiting finish of 7 more threads\n",
            "2022-06-20 17:07:28,323 : INFO : worker thread finished; awaiting finish of 6 more threads\n",
            "2022-06-20 17:07:28,346 : INFO : worker thread finished; awaiting finish of 5 more threads\n",
            "2022-06-20 17:07:28,356 : INFO : worker thread finished; awaiting finish of 4 more threads\n",
            "2022-06-20 17:07:28,365 : INFO : worker thread finished; awaiting finish of 3 more threads\n",
            "2022-06-20 17:07:28,371 : INFO : worker thread finished; awaiting finish of 2 more threads\n",
            "2022-06-20 17:07:28,375 : INFO : worker thread finished; awaiting finish of 1 more threads\n",
            "2022-06-20 17:07:28,386 : INFO : worker thread finished; awaiting finish of 0 more threads\n",
            "2022-06-20 17:07:28,387 : INFO : EPOCH - 28 : training on 719751 raw words (576666 effective words) took 1.6s, 369779 effective words/s\n",
            "2022-06-20 17:07:29,480 : INFO : EPOCH 29 - PROGRESS: at 58.19% examples, 311702 words/s, in_qsize 12, out_qsize 3\n",
            "2022-06-20 17:07:29,883 : INFO : worker thread finished; awaiting finish of 7 more threads\n",
            "2022-06-20 17:07:29,903 : INFO : worker thread finished; awaiting finish of 6 more threads\n",
            "2022-06-20 17:07:29,926 : INFO : worker thread finished; awaiting finish of 5 more threads\n",
            "2022-06-20 17:07:29,946 : INFO : worker thread finished; awaiting finish of 4 more threads\n",
            "2022-06-20 17:07:29,964 : INFO : worker thread finished; awaiting finish of 3 more threads\n",
            "2022-06-20 17:07:29,973 : INFO : worker thread finished; awaiting finish of 2 more threads\n",
            "2022-06-20 17:07:29,975 : INFO : worker thread finished; awaiting finish of 1 more threads\n",
            "2022-06-20 17:07:29,978 : INFO : worker thread finished; awaiting finish of 0 more threads\n",
            "2022-06-20 17:07:29,980 : INFO : EPOCH - 29 : training on 719751 raw words (576656 effective words) took 1.6s, 365296 effective words/s\n",
            "2022-06-20 17:07:31,031 : INFO : EPOCH 30 - PROGRESS: at 59.59% examples, 334868 words/s, in_qsize 16, out_qsize 1\n",
            "2022-06-20 17:07:31,562 : INFO : worker thread finished; awaiting finish of 7 more threads\n",
            "2022-06-20 17:07:31,585 : INFO : worker thread finished; awaiting finish of 6 more threads\n",
            "2022-06-20 17:07:31,590 : INFO : worker thread finished; awaiting finish of 5 more threads\n",
            "2022-06-20 17:07:31,603 : INFO : worker thread finished; awaiting finish of 4 more threads\n",
            "2022-06-20 17:07:31,607 : INFO : worker thread finished; awaiting finish of 3 more threads\n",
            "2022-06-20 17:07:31,613 : INFO : worker thread finished; awaiting finish of 2 more threads\n",
            "2022-06-20 17:07:31,641 : INFO : worker thread finished; awaiting finish of 1 more threads\n",
            "2022-06-20 17:07:31,647 : INFO : worker thread finished; awaiting finish of 0 more threads\n",
            "2022-06-20 17:07:31,650 : INFO : EPOCH - 30 : training on 719751 raw words (576797 effective words) took 1.6s, 350056 effective words/s\n",
            "2022-06-20 17:07:32,685 : INFO : EPOCH 31 - PROGRESS: at 49.84% examples, 282892 words/s, in_qsize 16, out_qsize 5\n",
            "2022-06-20 17:07:33,222 : INFO : worker thread finished; awaiting finish of 7 more threads\n",
            "2022-06-20 17:07:33,227 : INFO : worker thread finished; awaiting finish of 6 more threads\n",
            "2022-06-20 17:07:33,255 : INFO : worker thread finished; awaiting finish of 5 more threads\n",
            "2022-06-20 17:07:33,284 : INFO : worker thread finished; awaiting finish of 4 more threads\n",
            "2022-06-20 17:07:33,292 : INFO : worker thread finished; awaiting finish of 3 more threads\n",
            "2022-06-20 17:07:33,313 : INFO : worker thread finished; awaiting finish of 2 more threads\n",
            "2022-06-20 17:07:33,316 : INFO : worker thread finished; awaiting finish of 1 more threads\n",
            "2022-06-20 17:07:33,322 : INFO : worker thread finished; awaiting finish of 0 more threads\n",
            "2022-06-20 17:07:33,327 : INFO : EPOCH - 31 : training on 719751 raw words (576609 effective words) took 1.7s, 347037 effective words/s\n",
            "2022-06-20 17:07:34,360 : INFO : EPOCH 32 - PROGRESS: at 55.38% examples, 315305 words/s, in_qsize 15, out_qsize 0\n",
            "2022-06-20 17:07:34,954 : INFO : worker thread finished; awaiting finish of 7 more threads\n",
            "2022-06-20 17:07:34,962 : INFO : worker thread finished; awaiting finish of 6 more threads\n",
            "2022-06-20 17:07:34,980 : INFO : worker thread finished; awaiting finish of 5 more threads\n",
            "2022-06-20 17:07:35,045 : INFO : worker thread finished; awaiting finish of 4 more threads\n",
            "2022-06-20 17:07:35,058 : INFO : worker thread finished; awaiting finish of 3 more threads\n",
            "2022-06-20 17:07:35,070 : INFO : worker thread finished; awaiting finish of 2 more threads\n",
            "2022-06-20 17:07:35,079 : INFO : worker thread finished; awaiting finish of 1 more threads\n",
            "2022-06-20 17:07:35,081 : INFO : worker thread finished; awaiting finish of 0 more threads\n",
            "2022-06-20 17:07:35,086 : INFO : EPOCH - 32 : training on 719751 raw words (576839 effective words) took 1.7s, 331108 effective words/s\n",
            "2022-06-20 17:07:35,088 : INFO : training on a 23032032 raw words (18457390 effective words) took 53.0s, 348155 effective words/s\n"
          ]
        },
        {
          "output_type": "stream",
          "name": "stdout",
          "text": [
            "CPU times: user 1min 36s, sys: 793 ms, total: 1min 37s\n",
            "Wall time: 53 s\n"
          ]
        },
        {
          "output_type": "execute_result",
          "data": {
            "text/plain": [
              "(18457390, 23032032)"
            ]
          },
          "metadata": {},
          "execution_count": 43
        }
      ],
      "source": [
        "%%time\n",
        "w2v_model.train(documents, total_examples=len(documents), epochs=W2V_EPOCH)"
      ]
    },
    {
      "cell_type": "code",
      "execution_count": null,
      "metadata": {
        "colab": {
          "base_uri": "https://localhost:8080/"
        },
        "id": "V0qCI_f4rSlz",
        "outputId": "e2e606b5-422a-4c0b-c32f-307b00b50bbf"
      },
      "outputs": [
        {
          "output_type": "stream",
          "name": "stderr",
          "text": [
            "2022-06-20 17:08:17,665 : INFO : precomputing L2-norms of word weight vectors\n"
          ]
        },
        {
          "output_type": "execute_result",
          "data": {
            "text/plain": [
              "[('luv', 0.44061708450317383),\n",
              " ('loves', 0.39117228984832764),\n",
              " ('loved', 0.3862961530685425),\n",
              " ('loooove', 0.36984485387802124),\n",
              " ('lovee', 0.3698398470878601),\n",
              " ('loving', 0.34140104055404663),\n",
              " ('rocks', 0.3305228352546692),\n",
              " ('joe', 0.32788875699043274),\n",
              " ('ddlovato', 0.32727354764938354),\n",
              " ('goo', 0.3241972327232361)]"
            ]
          },
          "metadata": {},
          "execution_count": 44
        }
      ],
      "source": [
        "w2v_model.wv.most_similar(\"love\")"
      ]
    },
    {
      "cell_type": "markdown",
      "metadata": {
        "id": "YFY00rn_rSlz"
      },
      "source": [
        "### Tokenize Text"
      ]
    },
    {
      "cell_type": "code",
      "execution_count": null,
      "metadata": {
        "colab": {
          "base_uri": "https://localhost:8080/"
        },
        "id": "ws9Nv-jDrSlz",
        "outputId": "931a72b8-6e37-4a78-d86b-cd8307dd67f6"
      },
      "outputs": [
        {
          "output_type": "stream",
          "name": "stdout",
          "text": [
            "Total words 57825\n",
            "CPU times: user 1.65 s, sys: 10 ms, total: 1.66 s\n",
            "Wall time: 1.67 s\n"
          ]
        }
      ],
      "source": [
        "%%time\n",
        "tokenizer = Tokenizer()\n",
        "tokenizer.fit_on_texts(df_train.text)\n",
        "\n",
        "vocab_size = len(tokenizer.word_index) + 1\n",
        "print(\"Total words\", vocab_size)"
      ]
    },
    {
      "cell_type": "code",
      "execution_count": null,
      "metadata": {
        "colab": {
          "base_uri": "https://localhost:8080/"
        },
        "id": "Scj21096rSlz",
        "outputId": "2824bc84-1fd9-470b-c0dc-4306178ab398"
      },
      "outputs": [
        {
          "output_type": "stream",
          "name": "stdout",
          "text": [
            "CPU times: user 7.23 s, sys: 48.6 ms, total: 7.28 s\n",
            "Wall time: 7.31 s\n"
          ]
        }
      ],
      "source": [
        "%%time\n",
        "x_train = pad_sequences(tokenizer.texts_to_sequences(df_train.text), maxlen=SEQUENCE_LENGTH)\n",
        "x_test = pad_sequences(tokenizer.texts_to_sequences(df_test.text), maxlen=SEQUENCE_LENGTH)"
      ]
    },
    {
      "cell_type": "markdown",
      "metadata": {
        "id": "aEJjG4CYrSl0"
      },
      "source": [
        "### Label Encoder "
      ]
    },
    {
      "cell_type": "code",
      "execution_count": null,
      "metadata": {
        "colab": {
          "base_uri": "https://localhost:8080/"
        },
        "id": "zKILqRmYrSl0",
        "outputId": "6c8144d4-0187-4634-b52f-e57b17c05d80"
      },
      "outputs": [
        {
          "output_type": "execute_result",
          "data": {
            "text/plain": [
              "['POSITIVE', 'NEGATIVE', 'NEUTRAL']"
            ]
          },
          "metadata": {},
          "execution_count": 47
        }
      ],
      "source": [
        "labels = df_train.target.unique().tolist()\n",
        "labels.append(NEUTRAL)\n",
        "labels"
      ]
    },
    {
      "cell_type": "code",
      "execution_count": null,
      "metadata": {
        "colab": {
          "base_uri": "https://localhost:8080/"
        },
        "id": "UHtaQlJhrSl0",
        "outputId": "0f7a990e-d480-4c13-9f82-577965555ae8"
      },
      "outputs": [
        {
          "output_type": "stream",
          "name": "stdout",
          "text": [
            "y_train (100000, 1)\n",
            "y_test (320000, 1)\n"
          ]
        }
      ],
      "source": [
        "encoder = LabelEncoder()\n",
        "encoder.fit(df_train.target.tolist())\n",
        "\n",
        "y_train = encoder.transform(df_train.target.tolist())\n",
        "y_test = encoder.transform(df_test.target.tolist())\n",
        "\n",
        "y_train = y_train.reshape(-1,1)\n",
        "y_test = y_test.reshape(-1,1)\n",
        "\n",
        "print(\"y_train\",y_train.shape)\n",
        "print(\"y_test\",y_test.shape)"
      ]
    },
    {
      "cell_type": "code",
      "execution_count": null,
      "metadata": {
        "colab": {
          "base_uri": "https://localhost:8080/"
        },
        "id": "yrQTtwdKrSl1",
        "outputId": "28b30dea-8732-4b85-db77-d4c9b712f69e"
      },
      "outputs": [
        {
          "output_type": "stream",
          "name": "stdout",
          "text": [
            "x_train (100000, 300)\n",
            "y_train (100000, 1)\n",
            "\n",
            "x_test (320000, 300)\n",
            "y_test (320000, 1)\n"
          ]
        }
      ],
      "source": [
        "print(\"x_train\", x_train.shape)\n",
        "print(\"y_train\", y_train.shape)\n",
        "print()\n",
        "print(\"x_test\", x_test.shape)\n",
        "print(\"y_test\", y_test.shape)"
      ]
    },
    {
      "cell_type": "code",
      "execution_count": null,
      "metadata": {
        "colab": {
          "base_uri": "https://localhost:8080/"
        },
        "id": "qZR5QePDrSl1",
        "outputId": "8c2b7f36-eba2-4272-ff0d-c736a5e14d3c"
      },
      "outputs": [
        {
          "output_type": "execute_result",
          "data": {
            "text/plain": [
              "array([[1],\n",
              "       [1],\n",
              "       [1],\n",
              "       [0],\n",
              "       [1],\n",
              "       [1],\n",
              "       [1],\n",
              "       [1],\n",
              "       [1],\n",
              "       [1]])"
            ]
          },
          "metadata": {},
          "execution_count": 50
        }
      ],
      "source": [
        "y_train[:10]"
      ]
    },
    {
      "cell_type": "markdown",
      "metadata": {
        "id": "ZSFz1MTvrSl1"
      },
      "source": [
        "### Embedding layer"
      ]
    },
    {
      "cell_type": "code",
      "execution_count": null,
      "metadata": {
        "colab": {
          "base_uri": "https://localhost:8080/"
        },
        "id": "NXIYQvuHrSl1",
        "outputId": "c59623a5-24e7-485e-e24d-783756b78cfe"
      },
      "outputs": [
        {
          "output_type": "stream",
          "name": "stdout",
          "text": [
            "(57825, 300)\n"
          ]
        }
      ],
      "source": [
        "embedding_matrix = np.zeros((vocab_size, W2V_SIZE))\n",
        "for word, i in tokenizer.word_index.items():\n",
        "  if word in w2v_model.wv:\n",
        "    embedding_matrix[i] = w2v_model.wv[word]\n",
        "print(embedding_matrix.shape)"
      ]
    },
    {
      "cell_type": "code",
      "execution_count": null,
      "metadata": {
        "id": "BWn0T9KYrSl1"
      },
      "outputs": [],
      "source": [
        "embedding_layer = Embedding(vocab_size, W2V_SIZE, weights=[embedding_matrix], input_length=SEQUENCE_LENGTH, trainable=False)"
      ]
    },
    {
      "cell_type": "markdown",
      "metadata": {
        "id": "Ph38cOQkrSl2"
      },
      "source": [
        "### Build Model"
      ]
    },
    {
      "cell_type": "code",
      "execution_count": null,
      "metadata": {
        "colab": {
          "base_uri": "https://localhost:8080/"
        },
        "id": "PiwcSu5frSl2",
        "outputId": "94c80091-d172-4f39-97d6-0de7790a72bd"
      },
      "outputs": [
        {
          "output_type": "stream",
          "name": "stdout",
          "text": [
            "Model: \"sequential_1\"\n",
            "_________________________________________________________________\n",
            " Layer (type)                Output Shape              Param #   \n",
            "=================================================================\n",
            " embedding_1 (Embedding)     (None, 300, 300)          17347500  \n",
            "                                                                 \n",
            " dropout_1 (Dropout)         (None, 300, 300)          0         \n",
            "                                                                 \n",
            " lstm_1 (LSTM)               (None, 100)               160400    \n",
            "                                                                 \n",
            " dense_1 (Dense)             (None, 1)                 101       \n",
            "                                                                 \n",
            "=================================================================\n",
            "Total params: 17,508,001\n",
            "Trainable params: 160,501\n",
            "Non-trainable params: 17,347,500\n",
            "_________________________________________________________________\n"
          ]
        }
      ],
      "source": [
        "model = Sequential()\n",
        "model.add(embedding_layer)\n",
        "model.add(Dropout(0.5))\n",
        "model.add(LSTM(100, dropout=0.2, recurrent_dropout=0.2))\n",
        "model.add(Dense(1, activation='sigmoid'))\n",
        "\n",
        "model.summary()"
      ]
    },
    {
      "cell_type": "markdown",
      "metadata": {
        "id": "tdQrPGzMrSl2"
      },
      "source": [
        "### Compile model"
      ]
    },
    {
      "cell_type": "code",
      "execution_count": null,
      "metadata": {
        "id": "pQyoh3gBrSl2"
      },
      "outputs": [],
      "source": [
        "model.compile(loss='binary_crossentropy',\n",
        "              optimizer=\"adam\",\n",
        "              metrics=['accuracy'])"
      ]
    },
    {
      "cell_type": "markdown",
      "metadata": {
        "id": "KmF1hZvwrSl2"
      },
      "source": [
        "### Callbacks"
      ]
    },
    {
      "cell_type": "code",
      "execution_count": null,
      "metadata": {
        "id": "Ydq5Fub9rSl2"
      },
      "outputs": [],
      "source": [
        "callbacks = [ ReduceLROnPlateau(monitor='val_loss', patience=5, cooldown=0),\n",
        "              EarlyStopping(monitor='val_acc', min_delta=1e-4, patience=5)]"
      ]
    },
    {
      "cell_type": "markdown",
      "metadata": {
        "id": "aKgDsPwGrSl3"
      },
      "source": [
        "### Train"
      ]
    },
    {
      "cell_type": "code",
      "execution_count": null,
      "metadata": {
        "colab": {
          "base_uri": "https://localhost:8080/"
        },
        "id": "hLfx185vrSl3",
        "outputId": "c2daaddf-4deb-4504-cced-dd3ea66b66fb"
      },
      "outputs": [
        {
          "output_type": "stream",
          "name": "stdout",
          "text": [
            "Epoch 1/3\n",
            "88/88 [==============================] - ETA: 0s - loss: 0.5759 - accuracy: 0.6931 WARNING:tensorflow:Early stopping conditioned on metric `val_acc` which is not available. Available metrics are: loss,accuracy,val_loss,val_accuracy,lr\n"
          ]
        },
        {
          "output_type": "stream",
          "name": "stderr",
          "text": [
            "2022-06-20 17:30:44,139 : WARNING : Early stopping conditioned on metric `val_acc` which is not available. Available metrics are: loss,accuracy,val_loss,val_accuracy,lr\n"
          ]
        },
        {
          "output_type": "stream",
          "name": "stdout",
          "text": [
            "\b\b\b\b\b\b\b\b\b\b\b\b\b\b\b\b\b\b\b\b\b\b\b\b\b\b\b\b\b\b\b\b\b\b\b\b\b\b\b\b\b\b\b\b\b\b\b\b\b\b\b\b\b\b\b\b\b\b\b\b\b\b\b\b\b\b\b\b\b\b\b\b\b\b\b\b\b\b\b\b\b\b\r88/88 [==============================] - 1300s 15s/step - loss: 0.5759 - accuracy: 0.6931 - val_loss: 0.5187 - val_accuracy: 0.7490 - lr: 0.0010\n",
            "Epoch 2/3\n",
            "88/88 [==============================] - ETA: 0s - loss: 0.5392 - accuracy: 0.7243 WARNING:tensorflow:Early stopping conditioned on metric `val_acc` which is not available. Available metrics are: loss,accuracy,val_loss,val_accuracy,lr\n"
          ]
        },
        {
          "output_type": "stream",
          "name": "stderr",
          "text": [
            "2022-06-20 17:52:41,720 : WARNING : Early stopping conditioned on metric `val_acc` which is not available. Available metrics are: loss,accuracy,val_loss,val_accuracy,lr\n"
          ]
        },
        {
          "output_type": "stream",
          "name": "stdout",
          "text": [
            "\b\b\b\b\b\b\b\b\b\b\b\b\b\b\b\b\b\b\b\b\b\b\b\b\b\b\b\b\b\b\b\b\b\b\b\b\b\b\b\b\b\b\b\b\b\b\b\b\b\b\b\b\b\b\b\b\b\b\b\b\b\b\b\b\b\b\b\b\b\b\b\b\b\b\b\b\b\b\b\b\b\b\r88/88 [==============================] - 1318s 15s/step - loss: 0.5392 - accuracy: 0.7243 - val_loss: 0.5055 - val_accuracy: 0.7551 - lr: 0.0010\n",
            "Epoch 3/3\n",
            "88/88 [==============================] - ETA: 0s - loss: 0.5261 - accuracy: 0.7339 WARNING:tensorflow:Early stopping conditioned on metric `val_acc` which is not available. Available metrics are: loss,accuracy,val_loss,val_accuracy,lr\n"
          ]
        },
        {
          "output_type": "stream",
          "name": "stderr",
          "text": [
            "2022-06-20 18:15:03,755 : WARNING : Early stopping conditioned on metric `val_acc` which is not available. Available metrics are: loss,accuracy,val_loss,val_accuracy,lr\n"
          ]
        },
        {
          "output_type": "stream",
          "name": "stdout",
          "text": [
            "\b\b\b\b\b\b\b\b\b\b\b\b\b\b\b\b\b\b\b\b\b\b\b\b\b\b\b\b\b\b\b\b\b\b\b\b\b\b\b\b\b\b\b\b\b\b\b\b\b\b\b\b\b\b\b\b\b\b\b\b\b\b\b\b\b\b\b\b\b\b\b\b\b\b\b\b\b\b\b\b\b\b\r88/88 [==============================] - 1342s 15s/step - loss: 0.5261 - accuracy: 0.7339 - val_loss: 0.4987 - val_accuracy: 0.7576 - lr: 0.0010\n",
            "CPU times: user 1h 56min 19s, sys: 7min 53s, total: 2h 4min 12s\n",
            "Wall time: 1h 6min 25s\n"
          ]
        }
      ],
      "source": [
        "%%time\n",
        "history = model.fit(x_train, y_train,\n",
        "                    batch_size=BATCH_SIZE,\n",
        "                    epochs=EPOCHS,\n",
        "                    validation_split=0.1,\n",
        "                    verbose=1,\n",
        "                    callbacks=callbacks)"
      ]
    },
    {
      "cell_type": "markdown",
      "metadata": {
        "id": "Yp9H0sASrSl3"
      },
      "source": [
        "### Evaluate"
      ]
    },
    {
      "cell_type": "code",
      "execution_count": null,
      "metadata": {
        "id": "6tnh1IQxrSl3",
        "colab": {
          "base_uri": "https://localhost:8080/"
        },
        "outputId": "72a80f7e-faa0-45f7-ca7f-b6f6e55ebabc"
      },
      "outputs": [
        {
          "output_type": "stream",
          "name": "stdout",
          "text": [
            "313/313 [==============================] - 966s 3s/step - loss: 0.5063 - accuracy: 0.7532\n",
            "\n",
            "ACCURACY: 0.7531874775886536\n",
            "LOSS: 0.5063361525535583\n",
            "CPU times: user 28min 50s, sys: 1min 39s, total: 30min 30s\n",
            "Wall time: 16min 22s\n"
          ]
        }
      ],
      "source": [
        "%%time\n",
        "score = model.evaluate(x_test, y_test, batch_size=BATCH_SIZE)\n",
        "print()\n",
        "print(\"ACCURACY:\",score[1])\n",
        "print(\"LOSS:\",score[0])"
      ]
    },
    {
      "cell_type": "code",
      "execution_count": null,
      "metadata": {
        "id": "yz_LvgsArSl3",
        "colab": {
          "base_uri": "https://localhost:8080/",
          "height": 545
        },
        "outputId": "cbbb1a12-ff64-44db-c2e2-8b0abc8aae2f"
      },
      "outputs": [
        {
          "output_type": "display_data",
          "data": {
            "text/plain": [
              "<Figure size 432x288 with 1 Axes>"
            ],
            "image/png": "[encoded data removed]"
          },
          "metadata": {
            "needs_background": "light"
          }
        },
        {
          "output_type": "display_data",
          "data": {
            "text/plain": [
              "<Figure size 432x288 with 1 Axes>"
            ],
            "image/png": "[encoded data removed]"
          },
          "metadata": {
            "needs_background": "light"
          }
        }
      ],
      "source": [
        "acc = history.history['accuracy']\n",
        "val_acc = history.history['val_accuracy']\n",
        "loss = history.history['loss']\n",
        "val_loss = history.history['val_loss']\n",
        "\n",
        "epochs = range(len(acc))\n",
        "\n",
        "plt.plot(epochs, acc, 'b', label='Training acc')\n",
        "plt.plot(epochs, val_acc, 'r', label='Validation acc')\n",
        "plt.title('Training and validation accuracy')\n",
        "plt.legend()\n",
        " \n",
        "plt.figure()\n",
        " \n",
        "plt.plot(epochs, loss, 'b', label='Training loss')\n",
        "plt.plot(epochs, val_loss, 'r', label='Validation loss')\n",
        "plt.title('Training and validation loss')\n",
        "plt.legend()\n",
        " \n",
        "plt.show()"
      ]
    },
    {
      "cell_type": "markdown",
      "metadata": {
        "id": "JegM4psVrSl4"
      },
      "source": [
        "### Predict"
      ]
    },
    {
      "cell_type": "code",
      "execution_count": null,
      "metadata": {
        "id": "eQFJEAj4rSl4"
      },
      "outputs": [],
      "source": [
        "def decode_sentiment(score, include_neutral=True):\n",
        "    if include_neutral:        \n",
        "        label = NEUTRAL\n",
        "        if score <= SENTIMENT_THRESHOLDS[0]:\n",
        "            label = NEGATIVE\n",
        "        elif score >= SENTIMENT_THRESHOLDS[1]:\n",
        "            label = POSITIVE\n",
        "\n",
        "        return label\n",
        "    else:\n",
        "        return NEGATIVE if score < 0.5 else POSITIVE"
      ]
    },
    {
      "cell_type": "code",
      "execution_count": null,
      "metadata": {
        "id": "v7JUlEUzrSl4"
      },
      "outputs": [],
      "source": [
        "def predict(text, include_neutral=True):\n",
        "    start_at = time.time()\n",
        "    # Tokenize text\n",
        "    x_test = pad_sequences(tokenizer.texts_to_sequences([text]), maxlen=SEQUENCE_LENGTH)\n",
        "    # Predict\n",
        "    score = model.predict([x_test])[0]\n",
        "    # Decode sentiment\n",
        "    label = decode_sentiment(score, include_neutral=include_neutral)\n",
        "\n",
        "    return {\"label\": label, \"score\": float(score),\n",
        "       \"elapsed_time\": time.time()-start_at}  "
      ]
    },
    {
      "cell_type": "code",
      "execution_count": null,
      "metadata": {
        "id": "ZnZ0r2LArSl4",
        "colab": {
          "base_uri": "https://localhost:8080/"
        },
        "outputId": "7445b3d1-6479-4752-ac0a-5beee577e2cb"
      },
      "outputs": [
        {
          "output_type": "execute_result",
          "data": {
            "text/plain": [
              "{'elapsed_time': 0.7659151554107666,\n",
              " 'label': 'POSITIVE',\n",
              " 'score': 0.9596109390258789}"
            ]
          },
          "metadata": {},
          "execution_count": 62
        }
      ],
      "source": [
        "predict(\"I love the music\")"
      ]
    },
    {
      "cell_type": "code",
      "execution_count": null,
      "metadata": {
        "id": "6RHHwNEhrSl5",
        "colab": {
          "base_uri": "https://localhost:8080/"
        },
        "outputId": "5d11e38a-7949-4766-f2eb-6dff6cac868f"
      },
      "outputs": [
        {
          "output_type": "execute_result",
          "data": {
            "text/plain": [
              "{'elapsed_time': 0.11830449104309082,\n",
              " 'label': 'NEGATIVE',\n",
              " 'score': 0.034288644790649414}"
            ]
          },
          "metadata": {},
          "execution_count": 63
        }
      ],
      "source": [
        "predict(\"I hate the rain\")"
      ]
    },
    {
      "cell_type": "code",
      "execution_count": null,
      "metadata": {
        "id": "bE-dOwr_rSl5",
        "colab": {
          "base_uri": "https://localhost:8080/"
        },
        "outputId": "f1f51c84-42ea-4ffc-fe3c-a7acc035c30e"
      },
      "outputs": [
        {
          "output_type": "execute_result",
          "data": {
            "text/plain": [
              "{'elapsed_time': 0.2740638256072998,\n",
              " 'label': 'NEUTRAL',\n",
              " 'score': 0.5855532884597778}"
            ]
          },
          "metadata": {},
          "execution_count": 72
        }
      ],
      "source": [
        "predict(\"i don't know what i'm doing\")"
      ]
    },
    {
      "cell_type": "markdown",
      "metadata": {
        "id": "4sZ3OjzHrSl5"
      },
      "source": [
        "### Confusion Matrix"
      ]
    },
    {
      "cell_type": "code",
      "execution_count": null,
      "metadata": {
        "id": "iCVZB8H-rSl5",
        "colab": {
          "base_uri": "https://localhost:8080/"
        },
        "outputId": "d1368fd7-844b-4d44-fdfc-f33d0c103274"
      },
      "outputs": [
        {
          "output_type": "stream",
          "name": "stdout",
          "text": [
            "40/40 [==============================] - 1142s 28s/step\n",
            "CPU times: user 28min 14s, sys: 7min 42s, total: 35min 57s\n",
            "Wall time: 19min 22s\n"
          ]
        }
      ],
      "source": [
        "%%time\n",
        "y_pred_1d = []\n",
        "y_test_1d = list(df_test.target)\n",
        "scores = model.predict(x_test, verbose=1, batch_size=8000)\n",
        "y_pred_1d = [decode_sentiment(score, include_neutral=False) for score in scores]"
      ]
    },
    {
      "cell_type": "code",
      "execution_count": null,
      "metadata": {
        "id": "CBCNQ1dSrSl6"
      },
      "outputs": [],
      "source": [
        "def plot_confusion_matrix(cm, classes,\n",
        "                          title='Confusion matrix',\n",
        "                          cmap=plt.cm.Blues):\n",
        "    \"\"\"\n",
        "    This function prints and plots the confusion matrix.\n",
        "    Normalization can be applied by setting `normalize=True`.\n",
        "    \"\"\"\n",
        "\n",
        "    cm = cm.astype('float') / cm.sum(axis=1)[:, np.newaxis]\n",
        "\n",
        "    plt.imshow(cm, interpolation='nearest', cmap=cmap)\n",
        "    plt.title(title, fontsize=30)\n",
        "    plt.colorbar()\n",
        "    tick_marks = np.arange(len(classes))\n",
        "    plt.xticks(tick_marks, classes, rotation=90, fontsize=22)\n",
        "    plt.yticks(tick_marks, classes, fontsize=22)\n",
        "\n",
        "    fmt = '.2f'\n",
        "    thresh = cm.max() / 2.\n",
        "    for i, j in itertools.product(range(cm.shape[0]), range(cm.shape[1])):\n",
        "        plt.text(j, i, format(cm[i, j], fmt),\n",
        "                 horizontalalignment=\"center\",\n",
        "                 color=\"white\" if cm[i, j] > thresh else \"black\")\n",
        "\n",
        "    plt.ylabel('True label', fontsize=25)\n",
        "    plt.xlabel('Predicted label', fontsize=25)"
      ]
    },
    {
      "cell_type": "code",
      "execution_count": null,
      "metadata": {
        "id": "lTuaOGGarSl6",
        "colab": {
          "base_uri": "https://localhost:8080/",
          "height": 804
        },
        "outputId": "3e914e74-4335-44a2-898f-4912d978639e"
      },
      "outputs": [
        {
          "output_type": "display_data",
          "data": {
            "text/plain": [
              "<Figure size 864x864 with 2 Axes>"
            ],
            "image/png": "[encoded data removed]"
          },
          "metadata": {
            "needs_background": "light"
          }
        },
        {
          "output_type": "stream",
          "name": "stdout",
          "text": [
            "CPU times: user 1.43 s, sys: 26.7 ms, total: 1.46 s\n",
            "Wall time: 1.53 s\n"
          ]
        }
      ],
      "source": [
        "%%time\n",
        "\n",
        "cnf_matrix = confusion_matrix(y_test_1d, y_pred_1d)\n",
        "plt.figure(figsize=(12,12))\n",
        "plot_confusion_matrix(cnf_matrix, classes=df_train.target.unique(), title=\"Confusion matrix\")\n",
        "plt.show()"
      ]
    },
    {
      "cell_type": "markdown",
      "metadata": {
        "id": "isfcNaOcrSl6"
      },
      "source": [
        "### Classification Report"
      ]
    },
    {
      "cell_type": "code",
      "execution_count": null,
      "metadata": {
        "id": "y5NgmJy7rSl6",
        "colab": {
          "base_uri": "https://localhost:8080/"
        },
        "outputId": "8b342383-f926-4bb2-ed81-a2ccfc9bacc3"
      },
      "outputs": [
        {
          "output_type": "stream",
          "name": "stdout",
          "text": [
            "              precision    recall  f1-score   support\n",
            "\n",
            "    NEGATIVE       0.77      0.72      0.74    159494\n",
            "    POSITIVE       0.74      0.79      0.76    160506\n",
            "\n",
            "    accuracy                           0.75    320000\n",
            "   macro avg       0.75      0.75      0.75    320000\n",
            "weighted avg       0.75      0.75      0.75    320000\n",
            "\n"
          ]
        }
      ],
      "source": [
        "print(classification_report(y_test_1d, y_pred_1d))"
      ]
    },
    {
      "cell_type": "markdown",
      "metadata": {
        "id": "mEQ-dHEMrSl6"
      },
      "source": [
        "### Accuracy Score"
      ]
    },
    {
      "cell_type": "code",
      "execution_count": null,
      "metadata": {
        "id": "gHoAUH3VrSl7",
        "colab": {
          "base_uri": "https://localhost:8080/"
        },
        "outputId": "ee0d929c-8d87-4471-b611-2d0793582a94"
      },
      "outputs": [
        {
          "output_type": "execute_result",
          "data": {
            "text/plain": [
              "0.7531875"
            ]
          },
          "metadata": {},
          "execution_count": 69
        }
      ],
      "source": [
        "accuracy_score(y_test_1d, y_pred_1d)"
      ]
    },
    {
      "cell_type": "markdown",
      "metadata": {
        "id": "_xLxpL-GrSl7"
      },
      "source": [
        "### Save model"
      ]
    },
    {
      "cell_type": "code",
      "execution_count": null,
      "metadata": {
        "id": "H-D2zw_MrSl7",
        "colab": {
          "base_uri": "https://localhost:8080/"
        },
        "outputId": "e83fac00-914e-40d6-e5e1-d364646bc91e"
      },
      "outputs": [
        {
          "output_type": "stream",
          "name": "stderr",
          "text": [
            "2022-06-20 19:41:47,851 : INFO : saving Word2Vec object under model.w2v, separately None\n",
            "2022-06-20 19:41:47,856 : INFO : not storing attribute vectors_norm\n",
            "2022-06-20 19:41:47,863 : INFO : not storing attribute cum_table\n",
            "2022-06-20 19:41:48,186 : INFO : saved model.w2v\n"
          ]
        }
      ],
      "source": [
        "model.save(KERAS_MODEL)\n",
        "w2v_model.save(WORD2VEC_MODEL)\n",
        "pickle.dump(tokenizer, open(TOKENIZER_MODEL, \"wb\"), protocol=0)\n",
        "pickle.dump(encoder, open(ENCODER_MODEL, \"wb\"), protocol=0)"
      ]
    },
    {
      "cell_type": "code",
      "execution_count": null,
      "metadata": {
        "id": "q_EBwBl3rSl7"
      },
      "outputs": [],
      "source": [
        ""
      ]
    }
  ],
  "metadata": {
    "colab": {
      "name": "sentiment-analysis.ipynb",
      "provenance": [],
      "collapsed_sections": []
    },
    "kernelspec": {
      "display_name": "Python 3",
      "language": "python",
      "name": "python3"
    },
    "language_info": {
      "codemirror_mode": {
        "name": "ipython",
        "version": 3
      },
      "file_extension": ".py",
      "mimetype": "text/x-python",
      "name": "python",
      "nbconvert_exporter": "python",
      "pygments_lexer": "ipython3",
      "version": "3.6.6"
    }
  },
  "nbformat": 4,
  "nbformat_minor": 0
}